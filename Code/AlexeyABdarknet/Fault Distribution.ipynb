{
 "cells": [
  {
   "cell_type": "code",
   "execution_count": 2,
   "metadata": {},
   "outputs": [],
   "source": [
    "import os\n",
    "import numpy as np"
   ]
  },
  {
   "cell_type": "markdown",
   "metadata": {},
   "source": [
    "# ACF-PR (all 4 cases)"
   ]
  },
  {
   "cell_type": "code",
   "execution_count": 8,
   "metadata": {},
   "outputs": [],
   "source": [
    "n_test_imgs = os.listdir(\"/media/talha/73fb317f-f61e-4b1f-b59e-5121d06d212b/Code(ACF)/data/Tsinghua-Daimler/new_test_set/pos/\")"
   ]
  },
  {
   "cell_type": "code",
   "execution_count": 4,
   "metadata": {},
   "outputs": [],
   "source": [
    "fwbbs = []\n",
    "files_with_bbs = os.listdir(\"./data/without_acf/obj\")\n",
    "for f in files_with_bbs:\n",
    "    fwbbs.append(f.split(\".jpg\")[0][:-2]+\".png\")"
   ]
  },
  {
   "cell_type": "code",
   "execution_count": 6,
   "metadata": {},
   "outputs": [
    {
     "data": {
      "text/plain": [
       "'tsinghuaDaimlerDataset_2014-11-20_075523_000006544.png'"
      ]
     },
     "execution_count": 6,
     "metadata": {},
     "output_type": "execute_result"
    }
   ],
   "source": [
    "fwbbs[0]"
   ]
  },
  {
   "cell_type": "code",
   "execution_count": 10,
   "metadata": {},
   "outputs": [
    {
     "ename": "SyntaxError",
     "evalue": "invalid syntax (<ipython-input-10-24f9ae1b528c>, line 4)",
     "output_type": "error",
     "traceback": [
      "\u001b[0;36m  File \u001b[0;32m\"<ipython-input-10-24f9ae1b528c>\"\u001b[0;36m, line \u001b[0;32m4\u001b[0m\n\u001b[0;31m    for name not in n_test_imgs:\u001b[0m\n\u001b[0m               ^\u001b[0m\n\u001b[0;31mSyntaxError\u001b[0m\u001b[0;31m:\u001b[0m invalid syntax\n"
     ]
    }
   ],
   "source": [
    "#fnames = os.listdir(\"./test/imgs\")\n",
    "names = []\n",
    "acf_ddetect = 0\n",
    "for name in n_test_imgs:\n",
    "    if name in fwbbs:\n",
    "        names.append(name)\n",
    "        acf_ddetect = acf_ddetect + 1"
   ]
  },
  {
   "cell_type": "code",
   "execution_count": 25,
   "metadata": {},
   "outputs": [
    {
     "data": {
      "text/plain": [
       "['tsinghuaDaimlerDataset_2015-03-24_041424_000062006.png',\n",
       " 'tsinghuaDaimlerDataset_2015-03-24_041424_000062041.png',\n",
       " 'tsinghuaDaimlerDataset_2014-12-04_082614_000024719.png',\n",
       " 'tsinghuaDaimlerDataset_2015-03-24_041424_000057126.png']"
      ]
     },
     "execution_count": 25,
     "metadata": {},
     "output_type": "execute_result"
    }
   ],
   "source": [
    "names[:4]"
   ]
  },
  {
   "cell_type": "code",
   "execution_count": 19,
   "metadata": {},
   "outputs": [
    {
     "data": {
      "text/plain": [
       "208"
      ]
     },
     "execution_count": 19,
     "metadata": {},
     "output_type": "execute_result"
    }
   ],
   "source": [
    "acf_ddetect"
   ]
  },
  {
   "cell_type": "code",
   "execution_count": 6,
   "metadata": {},
   "outputs": [
    {
     "name": "stdout",
     "output_type": "stream",
     "text": [
      "7.13795470144 % images had boxes but ACF-PR didn't detected them\n"
     ]
    }
   ],
   "source": [
    "print str((acf_ddetect/float(n_test_imgs))*100) + \" % images had boxes but ACF-PR didn't detected them\" "
   ]
  },
  {
   "cell_type": "code",
   "execution_count": 26,
   "metadata": {},
   "outputs": [],
   "source": [
    "fnames = os.listdir(\"./test/imgs\")\n",
    "acf_detect = 0\n",
    "names = []\n",
    "for name in fnames:\n",
    "    if name in fwbbs and len(os.listdir(\"./test/results/\"+name.split(\".png\")[0])) > 1:\n",
    "        names.append(name)\n",
    "        acf_detect = acf_detect + 1"
   ]
  },
  {
   "cell_type": "code",
   "execution_count": 27,
   "metadata": {},
   "outputs": [
    {
     "data": {
      "text/plain": [
       "['tsinghuaDaimlerDataset_2014-12-04_082614_000028589.png',\n",
       " 'tsinghuaDaimlerDataset_2015-03-24_041424_000056496.png',\n",
       " 'tsinghuaDaimlerDataset_2014-12-04_082614_000019704.png',\n",
       " 'tsinghuaDaimlerDataset_2014-12-04_082614_000025259.png']"
      ]
     },
     "execution_count": 27,
     "metadata": {},
     "output_type": "execute_result"
    }
   ],
   "source": [
    "names[:4]"
   ]
  },
  {
   "cell_type": "code",
   "execution_count": 8,
   "metadata": {},
   "outputs": [
    {
     "data": {
      "text/plain": [
       "1412"
      ]
     },
     "execution_count": 8,
     "metadata": {},
     "output_type": "execute_result"
    }
   ],
   "source": [
    "acf_detect"
   ]
  },
  {
   "cell_type": "code",
   "execution_count": 9,
   "metadata": {},
   "outputs": [
    {
     "name": "stdout",
     "output_type": "stream",
     "text": [
      "48.455730954 % images had boxes and ACF-PR detected them\n"
     ]
    }
   ],
   "source": [
    "print str((acf_detect/float(n_test_imgs))*100) + \" % images had boxes and ACF-PR detected them\" "
   ]
  },
  {
   "cell_type": "code",
   "execution_count": 28,
   "metadata": {},
   "outputs": [],
   "source": [
    "fnames = os.listdir(\"./test/imgs\")\n",
    "acf_detect = 0\n",
    "names = []\n",
    "for name in fnames:\n",
    "    if name not in fwbbs and len(os.listdir(\"./test/results/\"+name.split(\".png\")[0])) == 1:\n",
    "        names.append(name)\n",
    "        acf_detect = acf_detect + 1"
   ]
  },
  {
   "cell_type": "code",
   "execution_count": 29,
   "metadata": {},
   "outputs": [
    {
     "data": {
      "text/plain": [
       "['tsinghuaDaimlerDataset_2015-03-24_041424_000055311.png',\n",
       " 'tsinghuaDaimlerDataset_2014-12-04_082614_000025789.png',\n",
       " 'tsinghuaDaimlerDataset_2015-03-24_041424_000054296.png',\n",
       " 'tsinghuaDaimlerDataset_2014-12-04_082614_000019509.png']"
      ]
     },
     "execution_count": 29,
     "metadata": {},
     "output_type": "execute_result"
    }
   ],
   "source": [
    "names[:4]"
   ]
  },
  {
   "cell_type": "code",
   "execution_count": 11,
   "metadata": {},
   "outputs": [
    {
     "data": {
      "text/plain": [
       "168"
      ]
     },
     "execution_count": 11,
     "metadata": {},
     "output_type": "execute_result"
    }
   ],
   "source": [
    "acf_detect"
   ]
  },
  {
   "cell_type": "code",
   "execution_count": 12,
   "metadata": {},
   "outputs": [
    {
     "name": "stdout",
     "output_type": "stream",
     "text": [
      "5.76527110501 % images didn't had boxes and ACF-PR didn't detected them\n"
     ]
    }
   ],
   "source": [
    "print str((acf_detect/float(n_test_imgs))*100) + \" % images didn't had boxes and ACF-PR didn't detected them\" "
   ]
  },
  {
   "cell_type": "code",
   "execution_count": 20,
   "metadata": {},
   "outputs": [],
   "source": [
    "fnames = os.listdir(\"./test/imgs\")\n",
    "acf_ddetect = 0\n",
    "names = []\n",
    "for name in fnames:\n",
    "    if name not in fwbbs and len(os.listdir(\"./test/results/\"+name.split(\".png\")[0])) > 1:\n",
    "        acf_ddetect = acf_ddetect + 1\n",
    "        names.append(name)"
   ]
  },
  {
   "cell_type": "code",
   "execution_count": 23,
   "metadata": {},
   "outputs": [
    {
     "data": {
      "text/plain": [
       "['tsinghuaDaimlerDataset_2015-03-24_041424_000054941.png',\n",
       " 'tsinghuaDaimlerDataset_2015-03-24_041424_000055591.png',\n",
       " 'tsinghuaDaimlerDataset_2015-03-24_041424_000053206.png',\n",
       " 'tsinghuaDaimlerDataset_2014-12-04_082614_000027994.png']"
      ]
     },
     "execution_count": 23,
     "metadata": {},
     "output_type": "execute_result"
    }
   ],
   "source": [
    "names[:4]"
   ]
  },
  {
   "cell_type": "code",
   "execution_count": 21,
   "metadata": {},
   "outputs": [
    {
     "data": {
      "text/plain": [
       "1126"
      ]
     },
     "execution_count": 21,
     "metadata": {},
     "output_type": "execute_result"
    }
   ],
   "source": [
    "acf_ddetect"
   ]
  },
  {
   "cell_type": "code",
   "execution_count": 22,
   "metadata": {},
   "outputs": [
    {
     "name": "stdout",
     "output_type": "stream",
     "text": [
      "38.6410432395 % images didn't had boxes and ACF-PR detected them\n"
     ]
    }
   ],
   "source": [
    "print str((acf_ddetect/float(n_test_imgs))*100) + \" % images didn't had boxes and ACF-PR detected them\" "
   ]
  },
  {
   "cell_type": "markdown",
   "metadata": {},
   "source": [
    "# ACF-PR (completely sampled)"
   ]
  },
  {
   "cell_type": "markdown",
   "metadata": {},
   "source": [
    "# Cyclist Present"
   ]
  },
  {
   "cell_type": "code",
   "execution_count": 65,
   "metadata": {},
   "outputs": [],
   "source": [
    "n_test_imgs = len(os.listdir(\"./test/imgs\"))"
   ]
  },
  {
   "cell_type": "code",
   "execution_count": 66,
   "metadata": {},
   "outputs": [],
   "source": [
    "fwbbs = []\n",
    "files_with_bbs = os.listdir(\"./data/obj\")\n",
    "for f in files_with_bbs:\n",
    "    fwbbs.append(f.split(\".jpg\")[0][:-2]+\".png\")"
   ]
  },
  {
   "cell_type": "code",
   "execution_count": 67,
   "metadata": {},
   "outputs": [],
   "source": [
    "fnames = os.listdir(\"./test/imgs\")\n",
    "names = []\n",
    "c_sampled = 0\n",
    "for name in fnames:\n",
    "    if name in fwbbs and len(os.listdir(\"./test/results/\"+name.split(\".png\")[0])) == 1:\n",
    "        names.append(name)\n",
    "        c_sampled = c_sampled + 1"
   ]
  },
  {
   "cell_type": "code",
   "execution_count": 68,
   "metadata": {},
   "outputs": [
    {
     "data": {
      "text/plain": [
       "['tsinghuaDaimlerDataset_2015-03-24_041424_000062006.png',\n",
       " 'tsinghuaDaimlerDataset_2015-03-24_041424_000062041.png',\n",
       " 'tsinghuaDaimlerDataset_2014-12-04_082614_000024719.png',\n",
       " 'tsinghuaDaimlerDataset_2015-03-24_041424_000057126.png']"
      ]
     },
     "execution_count": 68,
     "metadata": {},
     "output_type": "execute_result"
    }
   ],
   "source": [
    "names[:4]"
   ]
  },
  {
   "cell_type": "code",
   "execution_count": 69,
   "metadata": {},
   "outputs": [
    {
     "data": {
      "text/plain": [
       "208"
      ]
     },
     "execution_count": 69,
     "metadata": {},
     "output_type": "execute_result"
    }
   ],
   "source": [
    "c_sampled"
   ]
  },
  {
   "cell_type": "code",
   "execution_count": 70,
   "metadata": {},
   "outputs": [
    {
     "name": "stdout",
     "output_type": "stream",
     "text": [
      "7.13795470144 % images have no sample by ACF-PR\n"
     ]
    }
   ],
   "source": [
    "print str((c_sampled/float(n_test_imgs))*100) + \" % images have no sample by ACF-PR\" "
   ]
  },
  {
   "cell_type": "code",
   "execution_count": 71,
   "metadata": {},
   "outputs": [],
   "source": [
    "fnames = os.listdir(\"./test/imgs\")\n",
    "names = []\n",
    "c_sampled = 0\n",
    "for name in fnames:\n",
    "    if name in fwbbs and len(os.listdir(\"./test/results/\"+name.split(\".png\")[0])) == 2:\n",
    "        names.append(name)\n",
    "        c_sampled = c_sampled + 1"
   ]
  },
  {
   "cell_type": "code",
   "execution_count": 72,
   "metadata": {},
   "outputs": [
    {
     "data": {
      "text/plain": [
       "['tsinghuaDaimlerDataset_2015-03-24_041424_000055501.png',\n",
       " 'tsinghuaDaimlerDataset_2014-12-04_082614_000018534.png',\n",
       " 'tsinghuaDaimlerDataset_2014-12-04_082614_000028214.png',\n",
       " 'tsinghuaDaimlerDataset_2014-12-04_082614_000027759.png']"
      ]
     },
     "execution_count": 72,
     "metadata": {},
     "output_type": "execute_result"
    }
   ],
   "source": [
    "names[:4]"
   ]
  },
  {
   "cell_type": "code",
   "execution_count": 73,
   "metadata": {},
   "outputs": [
    {
     "data": {
      "text/plain": [
       "95"
      ]
     },
     "execution_count": 73,
     "metadata": {},
     "output_type": "execute_result"
    }
   ],
   "source": [
    "c_sampled"
   ]
  },
  {
   "cell_type": "code",
   "execution_count": 74,
   "metadata": {},
   "outputs": [
    {
     "name": "stdout",
     "output_type": "stream",
     "text": [
      "3.26012354152 % images have only one sample by ACF-PR\n"
     ]
    }
   ],
   "source": [
    "print str((c_sampled/float(n_test_imgs))*100) + \" % images have only one sample by ACF-PR\" "
   ]
  },
  {
   "cell_type": "code",
   "execution_count": 75,
   "metadata": {},
   "outputs": [],
   "source": [
    "fnames = os.listdir(\"./test/imgs\")\n",
    "names = []\n",
    "c_sampled = 0\n",
    "for name in fnames:\n",
    "    if name in fwbbs and len(os.listdir(\"./test/results/\"+name.split(\".png\")[0])) == 3:\n",
    "        names.append(name)\n",
    "        c_sampled = c_sampled + 1"
   ]
  },
  {
   "cell_type": "code",
   "execution_count": 76,
   "metadata": {},
   "outputs": [
    {
     "data": {
      "text/plain": [
       "['tsinghuaDaimlerDataset_2014-12-04_082614_000028589.png',\n",
       " 'tsinghuaDaimlerDataset_2015-03-24_041424_000056496.png',\n",
       " 'tsinghuaDaimlerDataset_2015-03-24_041424_000043006.png',\n",
       " 'tsinghuaDaimlerDataset_2014-12-04_082614_000025449.png']"
      ]
     },
     "execution_count": 76,
     "metadata": {},
     "output_type": "execute_result"
    }
   ],
   "source": [
    "names[:4]"
   ]
  },
  {
   "cell_type": "code",
   "execution_count": 77,
   "metadata": {},
   "outputs": [
    {
     "data": {
      "text/plain": [
       "1041"
      ]
     },
     "execution_count": 77,
     "metadata": {},
     "output_type": "execute_result"
    }
   ],
   "source": [
    "c_sampled"
   ]
  },
  {
   "cell_type": "code",
   "execution_count": 78,
   "metadata": {},
   "outputs": [
    {
     "name": "stdout",
     "output_type": "stream",
     "text": [
      "35.7240905971 % images have two samples by ACF-PR\n"
     ]
    }
   ],
   "source": [
    "print str((c_sampled/float(n_test_imgs))*100) + \" % images have two samples by ACF-PR\" "
   ]
  },
  {
   "cell_type": "code",
   "execution_count": 79,
   "metadata": {},
   "outputs": [],
   "source": [
    "fnames = os.listdir(\"./test/imgs\")\n",
    "names = []\n",
    "c_sampled = 0\n",
    "for name in fnames:\n",
    "    if name in fwbbs and len(os.listdir(\"./test/results/\"+name.split(\".png\")[0])) == 4:\n",
    "        names.append(name)\n",
    "        c_sampled = c_sampled + 1"
   ]
  },
  {
   "cell_type": "code",
   "execution_count": 80,
   "metadata": {},
   "outputs": [
    {
     "data": {
      "text/plain": [
       "['tsinghuaDaimlerDataset_2014-12-04_082614_000019704.png',\n",
       " 'tsinghuaDaimlerDataset_2014-12-04_082614_000025259.png',\n",
       " 'tsinghuaDaimlerDataset_2015-03-24_041424_000062141.png',\n",
       " 'tsinghuaDaimlerDataset_2014-12-04_082614_000024494.png']"
      ]
     },
     "execution_count": 80,
     "metadata": {},
     "output_type": "execute_result"
    }
   ],
   "source": [
    "names[:4]"
   ]
  },
  {
   "cell_type": "code",
   "execution_count": 81,
   "metadata": {},
   "outputs": [
    {
     "data": {
      "text/plain": [
       "276"
      ]
     },
     "execution_count": 81,
     "metadata": {},
     "output_type": "execute_result"
    }
   ],
   "source": [
    "c_sampled"
   ]
  },
  {
   "cell_type": "code",
   "execution_count": 82,
   "metadata": {},
   "outputs": [
    {
     "name": "stdout",
     "output_type": "stream",
     "text": [
      "9.47151681537 % images have three samples by ACF-PR\n"
     ]
    }
   ],
   "source": [
    "print str((c_sampled/float(n_test_imgs))*100) + \" % images have three samples by ACF-PR\" "
   ]
  },
  {
   "cell_type": "markdown",
   "metadata": {},
   "source": [
    "# Cyclist Not Present"
   ]
  },
  {
   "cell_type": "code",
   "execution_count": 111,
   "metadata": {},
   "outputs": [],
   "source": [
    "fnames = os.listdir(\"./test/imgs\")\n",
    "names = []\n",
    "c_sampled = 0\n",
    "for name in fnames:\n",
    "    if name not in fwbbs and len(os.listdir(\"./test/results/\"+name.split(\".png\")[0])) == 1:\n",
    "        names.append(name)\n",
    "        c_sampled = c_sampled + 1"
   ]
  },
  {
   "cell_type": "code",
   "execution_count": 112,
   "metadata": {},
   "outputs": [
    {
     "data": {
      "text/plain": [
       "['tsinghuaDaimlerDataset_2015-03-24_041424_000055311.png',\n",
       " 'tsinghuaDaimlerDataset_2014-12-04_082614_000025789.png',\n",
       " 'tsinghuaDaimlerDataset_2015-03-24_041424_000054296.png',\n",
       " 'tsinghuaDaimlerDataset_2014-12-04_082614_000019509.png']"
      ]
     },
     "execution_count": 112,
     "metadata": {},
     "output_type": "execute_result"
    }
   ],
   "source": [
    "names[:4]"
   ]
  },
  {
   "cell_type": "code",
   "execution_count": 113,
   "metadata": {},
   "outputs": [
    {
     "data": {
      "text/plain": [
       "168"
      ]
     },
     "execution_count": 113,
     "metadata": {},
     "output_type": "execute_result"
    }
   ],
   "source": [
    "c_sampled"
   ]
  },
  {
   "cell_type": "code",
   "execution_count": 114,
   "metadata": {},
   "outputs": [
    {
     "name": "stdout",
     "output_type": "stream",
     "text": [
      "5.76527110501 % images have no sample by ACF-PR\n"
     ]
    }
   ],
   "source": [
    "print str((c_sampled/float(n_test_imgs))*100) + \" % images have no sample by ACF-PR\" "
   ]
  },
  {
   "cell_type": "code",
   "execution_count": 115,
   "metadata": {},
   "outputs": [],
   "source": [
    "fnames = os.listdir(\"./test/imgs\")\n",
    "names = []\n",
    "c_sampled = 0\n",
    "for name in fnames:\n",
    "    if name not in fwbbs and len(os.listdir(\"./test/results/\"+name.split(\".png\")[0])) == 2:\n",
    "        names.append(name)\n",
    "        c_sampled = c_sampled + 1"
   ]
  },
  {
   "cell_type": "code",
   "execution_count": 116,
   "metadata": {},
   "outputs": [
    {
     "data": {
      "text/plain": [
       "['tsinghuaDaimlerDataset_2015-03-24_041424_000054941.png',\n",
       " 'tsinghuaDaimlerDataset_2015-03-24_041424_000052926.png',\n",
       " 'tsinghuaDaimlerDataset_2015-03-24_041424_000053686.png',\n",
       " 'tsinghuaDaimlerDataset_2014-12-04_082614_000026899.png']"
      ]
     },
     "execution_count": 116,
     "metadata": {},
     "output_type": "execute_result"
    }
   ],
   "source": [
    "names[:4]"
   ]
  },
  {
   "cell_type": "code",
   "execution_count": 117,
   "metadata": {},
   "outputs": [
    {
     "data": {
      "text/plain": [
       "234"
      ]
     },
     "execution_count": 117,
     "metadata": {},
     "output_type": "execute_result"
    }
   ],
   "source": [
    "c_sampled"
   ]
  },
  {
   "cell_type": "code",
   "execution_count": 118,
   "metadata": {},
   "outputs": [
    {
     "name": "stdout",
     "output_type": "stream",
     "text": [
      "8.03019903912 % images have only one sample by ACF-PR\n"
     ]
    }
   ],
   "source": [
    "print str((c_sampled/float(n_test_imgs))*100) + \" % images have only one sample by ACF-PR\" "
   ]
  },
  {
   "cell_type": "code",
   "execution_count": 119,
   "metadata": {},
   "outputs": [],
   "source": [
    "fnames = os.listdir(\"./test/imgs\")\n",
    "names = []\n",
    "c_sampled = 0\n",
    "for name in fnames:\n",
    "    if name not in fwbbs and len(os.listdir(\"./test/results/\"+name.split(\".png\")[0])) == 3:\n",
    "        names.append(name)\n",
    "        c_sampled = c_sampled + 1"
   ]
  },
  {
   "cell_type": "code",
   "execution_count": 120,
   "metadata": {},
   "outputs": [
    {
     "data": {
      "text/plain": [
       "['tsinghuaDaimlerDataset_2015-03-24_041424_000055591.png',\n",
       " 'tsinghuaDaimlerDataset_2015-03-24_041424_000053206.png',\n",
       " 'tsinghuaDaimlerDataset_2014-12-04_082614_000027994.png',\n",
       " 'tsinghuaDaimlerDataset_2015-03-24_041424_000054456.png']"
      ]
     },
     "execution_count": 120,
     "metadata": {},
     "output_type": "execute_result"
    }
   ],
   "source": [
    "names[:4]"
   ]
  },
  {
   "cell_type": "code",
   "execution_count": 121,
   "metadata": {},
   "outputs": [
    {
     "data": {
      "text/plain": [
       "774"
      ]
     },
     "execution_count": 121,
     "metadata": {},
     "output_type": "execute_result"
    }
   ],
   "source": [
    "c_sampled"
   ]
  },
  {
   "cell_type": "code",
   "execution_count": 122,
   "metadata": {},
   "outputs": [
    {
     "name": "stdout",
     "output_type": "stream",
     "text": [
      "26.5614275909 % images have two one samples by ACF-PR\n"
     ]
    }
   ],
   "source": [
    "print str((c_sampled/float(n_test_imgs))*100) + \" % images have two one samples by ACF-PR\" "
   ]
  },
  {
   "cell_type": "code",
   "execution_count": 123,
   "metadata": {},
   "outputs": [],
   "source": [
    "fnames = os.listdir(\"./test/imgs\")\n",
    "names = []\n",
    "c_sampled = 0\n",
    "for name in fnames:\n",
    "    if name not in fwbbs and len(os.listdir(\"./test/results/\"+name.split(\".png\")[0])) == 4:\n",
    "        names.append(name)\n",
    "        c_sampled = c_sampled + 1"
   ]
  },
  {
   "cell_type": "code",
   "execution_count": 124,
   "metadata": {},
   "outputs": [
    {
     "data": {
      "text/plain": [
       "['tsinghuaDaimlerDataset_2014-12-04_082614_000026429.png',\n",
       " 'tsinghuaDaimlerDataset_2014-12-04_082614_000027989.png',\n",
       " 'tsinghuaDaimlerDataset_2014-12-04_082614_000024464.png',\n",
       " 'tsinghuaDaimlerDataset_2014-12-04_082614_000024154.png']"
      ]
     },
     "execution_count": 124,
     "metadata": {},
     "output_type": "execute_result"
    }
   ],
   "source": [
    "names[:4]"
   ]
  },
  {
   "cell_type": "code",
   "execution_count": 125,
   "metadata": {},
   "outputs": [
    {
     "data": {
      "text/plain": [
       "118"
      ]
     },
     "execution_count": 125,
     "metadata": {},
     "output_type": "execute_result"
    }
   ],
   "source": [
    "c_sampled"
   ]
  },
  {
   "cell_type": "code",
   "execution_count": 126,
   "metadata": {},
   "outputs": [
    {
     "name": "stdout",
     "output_type": "stream",
     "text": [
      "4.04941660947 % images have three samples by ACF-PR\n"
     ]
    }
   ],
   "source": [
    "print str((c_sampled/float(n_test_imgs))*100) + \" % images have three samples by ACF-PR\" "
   ]
  },
  {
   "cell_type": "markdown",
   "metadata": {},
   "source": [
    "# What portion of images not sent to YOLO because of ACF-PR"
   ]
  },
  {
   "cell_type": "markdown",
   "metadata": {},
   "source": [
    "# Cyclist Present"
   ]
  },
  {
   "cell_type": "code",
   "execution_count": 133,
   "metadata": {},
   "outputs": [],
   "source": [
    "fnames = os.listdir(\"./test/imgs\")\n",
    "names = []\n",
    "c_sampled = 0\n",
    "for name in fnames:\n",
    "    if name in fwbbs and len(os.listdir(\"./test/results/\"+name.split(\".png\")[0])) == 1:\n",
    "        names.append(name)\n",
    "        c_sampled = c_sampled + 1"
   ]
  },
  {
   "cell_type": "code",
   "execution_count": 134,
   "metadata": {},
   "outputs": [
    {
     "data": {
      "text/plain": [
       "['tsinghuaDaimlerDataset_2015-03-24_041424_000062006.png',\n",
       " 'tsinghuaDaimlerDataset_2015-03-24_041424_000062041.png',\n",
       " 'tsinghuaDaimlerDataset_2014-12-04_082614_000024719.png',\n",
       " 'tsinghuaDaimlerDataset_2015-03-24_041424_000057126.png']"
      ]
     },
     "execution_count": 134,
     "metadata": {},
     "output_type": "execute_result"
    }
   ],
   "source": [
    "names[:4]"
   ]
  },
  {
   "cell_type": "code",
   "execution_count": 135,
   "metadata": {},
   "outputs": [
    {
     "data": {
      "text/plain": [
       "208"
      ]
     },
     "execution_count": 135,
     "metadata": {},
     "output_type": "execute_result"
    }
   ],
   "source": [
    "c_sampled"
   ]
  },
  {
   "cell_type": "code",
   "execution_count": 136,
   "metadata": {},
   "outputs": [
    {
     "name": "stdout",
     "output_type": "stream",
     "text": [
      "7.13795470144 % images have no sample by ACF-PR\n"
     ]
    }
   ],
   "source": [
    "print str((c_sampled/float(n_test_imgs))*100) + \" % images have no sample by ACF-PR\" "
   ]
  },
  {
   "cell_type": "markdown",
   "metadata": {},
   "source": [
    "# Cyclist Not Present"
   ]
  },
  {
   "cell_type": "code",
   "execution_count": 137,
   "metadata": {},
   "outputs": [],
   "source": [
    "fnames = os.listdir(\"./test/imgs\")\n",
    "names = []\n",
    "c_sampled = 0\n",
    "for name in fnames:\n",
    "    if name not in fwbbs and len(os.listdir(\"./test/results/\"+name.split(\".png\")[0])) == 1:\n",
    "        names.append(name)\n",
    "        c_sampled = c_sampled + 1"
   ]
  },
  {
   "cell_type": "code",
   "execution_count": 138,
   "metadata": {},
   "outputs": [
    {
     "data": {
      "text/plain": [
       "['tsinghuaDaimlerDataset_2015-03-24_041424_000055311.png',\n",
       " 'tsinghuaDaimlerDataset_2014-12-04_082614_000025789.png',\n",
       " 'tsinghuaDaimlerDataset_2015-03-24_041424_000054296.png',\n",
       " 'tsinghuaDaimlerDataset_2014-12-04_082614_000019509.png']"
      ]
     },
     "execution_count": 138,
     "metadata": {},
     "output_type": "execute_result"
    }
   ],
   "source": [
    "names[:4]"
   ]
  },
  {
   "cell_type": "code",
   "execution_count": 139,
   "metadata": {},
   "outputs": [
    {
     "data": {
      "text/plain": [
       "168"
      ]
     },
     "execution_count": 139,
     "metadata": {},
     "output_type": "execute_result"
    }
   ],
   "source": [
    "c_sampled"
   ]
  },
  {
   "cell_type": "code",
   "execution_count": 140,
   "metadata": {},
   "outputs": [
    {
     "name": "stdout",
     "output_type": "stream",
     "text": [
      "5.76527110501 % images have no sample by ACF-PR\n"
     ]
    }
   ],
   "source": [
    "print str((c_sampled/float(n_test_imgs))*100) + \" % images have no sample by ACF-PR\" "
   ]
  },
  {
   "cell_type": "markdown",
   "metadata": {},
   "source": [
    "# YOLO only bounding boxes (ACF didn’t detected particular instance before merge and extend but YOLO did)"
   ]
  },
  {
   "cell_type": "markdown",
   "metadata": {},
   "source": [
    "# Exact Matches Between YOLO and ACF"
   ]
  },
  {
   "cell_type": "code",
   "execution_count": 2,
   "metadata": {},
   "outputs": [],
   "source": [
    "acf_files = os.listdir(\"./test/acf/\")\n",
    "yolo_files = os.listdir(\"./test/yolo/\")"
   ]
  },
  {
   "cell_type": "code",
   "execution_count": 22,
   "metadata": {},
   "outputs": [],
   "source": [
    "acf_yolo = 0\n",
    "exact_match = 0\n",
    "exact_match_coord = []\n",
    "for acf_f in acf_files:\n",
    "    if acf_f.split(\".\")[0][:-4]+\".txt\" in yolo_files:\n",
    "        f1 = open(\"./test/acf/\"+acf_f,\"r\")\n",
    "        f2 = open(\"./test/yolo/\"+acf_f.split(\".\")[0][:-4]+\".txt\",\"r\")\n",
    "        first_f1 = f1.read(1)\n",
    "        first_f2 = f2.read(1)\n",
    "        if first_f1 and first_f2:\n",
    "            lf1 = []\n",
    "            lf2 = []\n",
    "            for l1 in f1:\n",
    "                lf1.append(l1.split())\n",
    "            f1.close()    \n",
    "            for l2 in f2:\n",
    "                lf2.append(l2.split())\n",
    "            f2.close()   \n",
    "            for l1 in lf1:\n",
    "                for l2 in lf2:\n",
    "                    if int(round(float(l1[0]))) == int(l2[0]) and int(round(float(l1[1]))) == int(l2[1]):\n",
    "                        exact_match_coord.append([l1,l2])\n",
    "                        exact_match +=1   \n",
    "                        "
   ]
  },
  {
   "cell_type": "markdown",
   "metadata": {},
   "source": [
    "# YOLO only bounding boxes (Using Exact Matching)"
   ]
  },
  {
   "cell_type": "code",
   "execution_count": 48,
   "metadata": {},
   "outputs": [],
   "source": [
    "acf_files = os.listdir(\"./test/acf/\")\n",
    "yolo_files = os.listdir(\"./test/yolo/\")\n",
    "act_files = os.listdir('/media/talha/73fb317f-f61e-4b1f-b59e-5121d06d212b/Code(ACF)/data/Tsinghua-Daimler/test/posGt')"
   ]
  },
  {
   "cell_type": "code",
   "execution_count": 79,
   "metadata": {},
   "outputs": [],
   "source": [
    "i=0\n",
    "yolo_only_imgs = []\n",
    "for acf_f in acf_files:\n",
    "    if acf_f.split(\".\")[0][:-4]+\".txt\" in yolo_files and acf_f.split(\".\")[0][:-4]+\".txt\" in act_files:\n",
    "        f1 = open(\"./test/acf/\"+acf_f,\"r\")\n",
    "        f2 = open(\"./test/yolo/\"+acf_f.split(\".\")[0][:-4]+\".txt\",\"r\")\n",
    "        f3 = open(\"/media/talha/73fb317f-f61e-4b1f-b59e-5121d06d212b/Code(ACF)/data/Tsinghua-Daimler/test/posGt/\"+acf_f.split(\".\")[0][:-4]+\".txt\",\"r\")\n",
    "        lines = []\n",
    "        lines_g_1 = []\n",
    "        lf1 = []\n",
    "        lf2 = []\n",
    "        for l1 in f1:\n",
    "            lf1.append(l1.split())\n",
    "        f1.close()    \n",
    "        for l2 in f2:\n",
    "            lf2.append(l2.split())\n",
    "        f2.close()   \n",
    "        for l in f3:\n",
    "            lines.append(l)\n",
    "        if len(lines)>1:    \n",
    "            lines_g_1.append(lines[1:])\n",
    "            i+=1\n",
    "            yolo_only = 0\n",
    "            for l1 in lf1:\n",
    "                for l2 in lf2:\n",
    "                    for l3 in lines_g_1:\n",
    "                        if int(round(float(l1[0]))) != int(l3[0].split()[1]) and int(round(float(l1[1]))) != int(l3[0].split()[2]) and int(l2[0]) == int(l3[0].split()[1]) and int(l2[1]) == int(l3[0].split()[2]):\n",
    "                            yolo_only+=1\n",
    "            if yolo_only>1:            \n",
    "                yolo_only_imgs.append(acf_f.split(\".\")[0][:-4])"
   ]
  },
  {
   "cell_type": "code",
   "execution_count": 76,
   "metadata": {},
   "outputs": [
    {
     "data": {
      "text/plain": [
       "99"
      ]
     },
     "execution_count": 76,
     "metadata": {},
     "output_type": "execute_result"
    }
   ],
   "source": [
    "yolo_only"
   ]
  },
  {
   "cell_type": "code",
   "execution_count": 81,
   "metadata": {},
   "outputs": [
    {
     "data": {
      "text/plain": [
       "(['tsinghuaDaimlerDataset_2015-03-24_041424_000042681',\n",
       "  'tsinghuaDaimlerDataset_2014-12-04_082614_000025114',\n",
       "  'tsinghuaDaimlerDataset_2014-12-04_082614_000018189',\n",
       "  'tsinghuaDaimlerDataset_2014-12-04_082614_000018124',\n",
       "  'tsinghuaDaimlerDataset_2014-12-04_082614_000025449'],\n",
       " 5)"
      ]
     },
     "execution_count": 81,
     "metadata": {},
     "output_type": "execute_result"
    }
   ],
   "source": [
    "yolo_only_imgs,len(yolo_only_imgs)"
   ]
  },
  {
   "cell_type": "code",
   "execution_count": 78,
   "metadata": {},
   "outputs": [
    {
     "data": {
      "text/plain": [
       "[['1081.000000', '386.000000', '76.000000', '119.000000'],\n",
       " ['1098', '380', '45', '128'],\n",
       " ['cyclist 1098 380 43 132 0 0 0 0 0 0 0\\n',\n",
       "  'cyclist 1185 378 56 140 0 0 0 0 0 0 0\\n',\n",
       "  'cyclist 1081 403 19 44 0 0 0 0 0 0 0\\n',\n",
       "  'cyclist 244 246 414 678 0 0 0 0 0 0 0\\n']]"
      ]
     },
     "execution_count": 78,
     "metadata": {},
     "output_type": "execute_result"
    }
   ],
   "source": [
    "yolo_only_coord[0]"
   ]
  },
  {
   "cell_type": "code",
   "execution_count": 67,
   "metadata": {},
   "outputs": [
    {
     "data": {
      "text/plain": [
       "(['cyclist 1541 379 88 117 0 0 0 0 0 0 0\\n',\n",
       "  'cyclist 1437 378 96 95 0 0 0 0 0 0 0\\n',\n",
       "  'cyclist 1323 355 21 59 0 0 0 0 0 0 0\\n',\n",
       "  'cyclist 1301 352 22 61 0 0 0 0 0 0 0\\n'],\n",
       " (4,))"
      ]
     },
     "execution_count": 67,
     "metadata": {},
     "output_type": "execute_result"
    }
   ],
   "source": [
    "lines_g_1[1],np.shape(lines_g_1[1])"
   ]
  },
  {
   "cell_type": "code",
   "execution_count": 59,
   "metadata": {},
   "outputs": [
    {
     "data": {
      "text/plain": [
       "(1475, ['% bbGt version=3\\n'])"
      ]
     },
     "execution_count": 59,
     "metadata": {},
     "output_type": "execute_result"
    }
   ],
   "source": [
    "i,lines"
   ]
  },
  {
   "cell_type": "code",
   "execution_count": 50,
   "metadata": {},
   "outputs": [
    {
     "data": {
      "text/plain": [
       "1"
      ]
     },
     "execution_count": 50,
     "metadata": {},
     "output_type": "execute_result"
    }
   ],
   "source": [
    "len(lines)"
   ]
  },
  {
   "cell_type": "code",
   "execution_count": 20,
   "metadata": {},
   "outputs": [
    {
     "data": {
      "text/plain": [
       "1"
      ]
     },
     "execution_count": 20,
     "metadata": {},
     "output_type": "execute_result"
    }
   ],
   "source": [
    "exact_match"
   ]
  },
  {
   "cell_type": "code",
   "execution_count": 23,
   "metadata": {},
   "outputs": [
    {
     "data": {
      "text/plain": [
       "[[['024.000000', '418.000000', '49.000000', '77.000000'],\n",
       "  ['024', '418', '35', '71']]]"
      ]
     },
     "execution_count": 23,
     "metadata": {},
     "output_type": "execute_result"
    }
   ],
   "source": [
    "exact_match_coord"
   ]
  },
  {
   "cell_type": "code",
   "execution_count": 4,
   "metadata": {},
   "outputs": [
    {
     "data": {
      "text/plain": [
       "[['463.000000', '379.000000', '59.000000', '91.000000'],\n",
       " ['1552.000000', '359.000000', '83.000000', '129.000000'],\n",
       " ['1679.000000', '317.000000', '328.000000', '512.000000'],\n",
       " ['1316.000000', '363.000000', '32.000000', '50.000000'],\n",
       " ['1441.000000', '386.000000', '59.000000', '91.000000'],\n",
       " ['1403.000000', '363.000000', '42.000000', '65.000000'],\n",
       " ['1120.000000', '348.000000', '128.000000', '200.000000'],\n",
       " ['1363.000000', '387.000000', '49.000000', '77.000000'],\n",
       " ['1766.000000', '203.000000', '282.000000', '441.000000'],\n",
       " ['1008.000000', '467.000000', '42.000000', '65.000000'],\n",
       " ['1267.000000', '417.000000', '45.000000', '71.000000'],\n",
       " ['1872.000000', '808.000000', '38.000000', '60.000000'],\n",
       " ['896.000000', '342.000000', '64.000000', '100.000000'],\n",
       " ['1381.000000', '382.000000', '54.000000', '84.000000'],\n",
       " ['1300.000000', '355.000000', '32.000000', '50.000000'],\n",
       " ['452.000000', '343.000000', '32.000000', '50.000000'],\n",
       " ['723.000000', '394.000000', '42.000000', '65.000000'],\n",
       " ['1083.000000', '377.000000', '117.000000', '183.000000'],\n",
       " ['1320.000000', '-1.000000', '42.000000', '65.000000'],\n",
       " ['1199.000000', '853.000000', '45.000000', '71.000000'],\n",
       " ['878.000000', '357.000000', '59.000000', '91.000000']]"
      ]
     },
     "execution_count": 4,
     "metadata": {},
     "output_type": "execute_result"
    }
   ],
   "source": [
    "lf1"
   ]
  },
  {
   "cell_type": "code",
   "execution_count": 5,
   "metadata": {},
   "outputs": [
    {
     "data": {
      "text/plain": [
       "[['556', '382', '74', '110'], ['1443', '374', '85', '98']]"
      ]
     },
     "execution_count": 5,
     "metadata": {},
     "output_type": "execute_result"
    }
   ],
   "source": [
    "lf2"
   ]
  },
  {
   "cell_type": "code",
   "execution_count": 6,
   "metadata": {},
   "outputs": [
    {
     "data": {
      "text/plain": [
       "((21, 4), (2, 4))"
      ]
     },
     "execution_count": 6,
     "metadata": {},
     "output_type": "execute_result"
    }
   ],
   "source": [
    "np.shape(lf1),np.shape(lf2)"
   ]
  },
  {
   "cell_type": "code",
   "execution_count": 18,
   "metadata": {},
   "outputs": [
    {
     "data": {
      "text/plain": [
       "(374, 359)"
      ]
     },
     "execution_count": 18,
     "metadata": {},
     "output_type": "execute_result"
    }
   ],
   "source": [
    "int(lf2[1][1]),int(round(float(lf1[1][1])))"
   ]
  },
  {
   "cell_type": "code",
   "execution_count": 24,
   "metadata": {},
   "outputs": [
    {
     "data": {
      "text/plain": [
       "['tsinghuaDaimlerDataset_2015-03-24_041424_000056566.txt',\n",
       " 'tsinghuaDaimlerDataset_2015-03-24_041424_000053796.txt',\n",
       " 'tsinghuaDaimlerDataset_2014-12-04_082614_000027549.txt',\n",
       " 'tsinghuaDaimlerDataset_2015-03-24_041424_000055911.txt',\n",
       " 'tsinghuaDaimlerDataset_2015-03-24_041424_000053486.txt',\n",
       " 'tsinghuaDaimlerDataset_2014-12-04_082614_000028019.txt',\n",
       " 'tsinghuaDaimlerDataset_2015-03-24_041424_000062161.txt',\n",
       " 'tsinghuaDaimlerDataset_2015-03-24_041424_000057501.txt',\n",
       " 'tsinghuaDaimlerDataset_2015-03-24_041424_000062496.txt',\n",
       " 'tsinghuaDaimlerDataset_2015-03-24_041424_000057271.txt',\n",
       " 'tsinghuaDaimlerDataset_2014-12-04_082614_000027104.txt',\n",
       " 'tsinghuaDaimlerDataset_2015-03-24_041424_000053806.txt',\n",
       " 'tsinghuaDaimlerDataset_2015-03-24_041424_000054741.txt',\n",
       " 'tsinghuaDaimlerDataset_2014-12-04_082614_000027889.txt',\n",
       " 'tsinghuaDaimlerDataset_2014-12-04_082614_000024234.txt',\n",
       " 'tsinghuaDaimlerDataset_2014-12-04_082614_000028364.txt',\n",
       " 'tsinghuaDaimlerDataset_2014-12-04_082614_000018734.txt',\n",
       " 'tsinghuaDaimlerDataset_2015-03-24_041424_000055756.txt',\n",
       " 'tsinghuaDaimlerDataset_2014-12-04_082614_000024879.txt',\n",
       " 'tsinghuaDaimlerDataset_2014-12-04_082614_000018239.txt',\n",
       " 'tsinghuaDaimlerDataset_2014-12-04_082614_000026354.txt',\n",
       " 'tsinghuaDaimlerDataset_2014-12-04_082614_000027879.txt',\n",
       " 'tsinghuaDaimlerDataset_2014-12-04_082614_000026639.txt',\n",
       " 'tsinghuaDaimlerDataset_2015-03-24_041424_000055161.txt',\n",
       " 'tsinghuaDaimlerDataset_2015-03-24_041424_000054381.txt',\n",
       " 'tsinghuaDaimlerDataset_2015-03-24_041424_000054676.txt',\n",
       " 'tsinghuaDaimlerDataset_2014-12-04_082614_000024064.txt',\n",
       " 'tsinghuaDaimlerDataset_2014-12-04_082614_000028439.txt',\n",
       " 'tsinghuaDaimlerDataset_2015-03-24_041424_000042346.txt',\n",
       " 'tsinghuaDaimlerDataset_2015-03-24_041424_000053191.txt',\n",
       " 'tsinghuaDaimlerDataset_2015-03-24_041424_000054616.txt',\n",
       " 'tsinghuaDaimlerDataset_2015-03-24_041424_000055841.txt',\n",
       " 'tsinghuaDaimlerDataset_2015-03-24_041424_000054901.txt',\n",
       " 'tsinghuaDaimlerDataset_2014-12-04_082614_000026239.txt',\n",
       " 'tsinghuaDaimlerDataset_2015-03-24_041424_000055071.txt',\n",
       " 'tsinghuaDaimlerDataset_2014-12-04_082614_000030304.txt',\n",
       " 'tsinghuaDaimlerDataset_2014-12-04_082614_000018344.txt',\n",
       " 'tsinghuaDaimlerDataset_2015-03-24_041424_000062461.txt',\n",
       " 'tsinghuaDaimlerDataset_2014-12-04_082614_000026299.txt',\n",
       " 'tsinghuaDaimlerDataset_2015-03-24_041424_000062401.txt',\n",
       " 'tsinghuaDaimlerDataset_2014-12-04_082614_000025129.txt',\n",
       " 'tsinghuaDaimlerDataset_2015-03-24_041424_000054256.txt',\n",
       " 'tsinghuaDaimlerDataset_2015-03-24_041424_000053406.txt',\n",
       " 'tsinghuaDaimlerDataset_2014-12-04_082614_000030159.txt',\n",
       " 'tsinghuaDaimlerDataset_2014-12-04_082614_000018599.txt',\n",
       " 'tsinghuaDaimlerDataset_2014-12-04_082614_000030099.txt',\n",
       " 'tsinghuaDaimlerDataset_2015-03-24_041424_000054196.txt',\n",
       " 'tsinghuaDaimlerDataset_2015-03-24_041424_000052371.txt',\n",
       " 'tsinghuaDaimlerDataset_2015-03-24_041424_000056276.txt',\n",
       " 'tsinghuaDaimlerDataset_2014-12-04_082614_000018664.txt',\n",
       " 'tsinghuaDaimlerDataset_2015-03-24_041424_000055371.txt',\n",
       " 'tsinghuaDaimlerDataset_2014-12-04_082614_000018864.txt',\n",
       " 'tsinghuaDaimlerDataset_2014-12-04_082614_000027504.txt',\n",
       " 'tsinghuaDaimlerDataset_2015-03-24_041424_000056941.txt',\n",
       " 'tsinghuaDaimlerDataset_2015-03-24_041424_000057296.txt',\n",
       " 'tsinghuaDaimlerDataset_2015-03-24_041424_000042666.txt',\n",
       " 'tsinghuaDaimlerDataset_2015-03-24_041424_000052816.txt',\n",
       " 'tsinghuaDaimlerDataset_2014-12-04_082614_000024314.txt',\n",
       " 'tsinghuaDaimlerDataset_2014-12-04_082614_000024629.txt',\n",
       " 'tsinghuaDaimlerDataset_2014-12-04_082614_000018809.txt',\n",
       " 'tsinghuaDaimlerDataset_2015-03-24_041424_000056271.txt',\n",
       " 'tsinghuaDaimlerDataset_2014-12-04_082614_000025519.txt',\n",
       " 'tsinghuaDaimlerDataset_2015-03-24_041424_000055921.txt',\n",
       " 'tsinghuaDaimlerDataset_2014-12-04_082614_000028514.txt',\n",
       " 'tsinghuaDaimlerDataset_2015-03-24_041424_000061936.txt',\n",
       " 'tsinghuaDaimlerDataset_2015-03-24_041424_000054241.txt',\n",
       " 'tsinghuaDaimlerDataset_2015-03-24_041424_000042891.txt',\n",
       " 'tsinghuaDaimlerDataset_2014-12-04_082614_000026664.txt',\n",
       " 'tsinghuaDaimlerDataset_2015-03-24_041424_000052766.txt',\n",
       " 'tsinghuaDaimlerDataset_2015-03-24_041424_000057171.txt',\n",
       " 'tsinghuaDaimlerDataset_2015-03-24_041424_000042426.txt',\n",
       " 'tsinghuaDaimlerDataset_2014-12-04_082614_000026759.txt',\n",
       " 'tsinghuaDaimlerDataset_2015-03-24_041424_000051926.txt',\n",
       " 'tsinghuaDaimlerDataset_2015-03-24_041424_000043156.txt',\n",
       " 'tsinghuaDaimlerDataset_2014-12-04_082614_000019064.txt',\n",
       " 'tsinghuaDaimlerDataset_2014-12-04_082614_000024934.txt',\n",
       " 'tsinghuaDaimlerDataset_2015-03-24_041424_000056166.txt',\n",
       " 'tsinghuaDaimlerDataset_2014-12-04_082614_000027284.txt',\n",
       " 'tsinghuaDaimlerDataset_2015-03-24_041424_000057311.txt',\n",
       " 'tsinghuaDaimlerDataset_2014-12-04_082614_000019229.txt',\n",
       " 'tsinghuaDaimlerDataset_2014-12-04_082614_000027354.txt',\n",
       " 'tsinghuaDaimlerDataset_2014-12-04_082614_000024624.txt',\n",
       " 'tsinghuaDaimlerDataset_2015-03-24_041424_000056831.txt',\n",
       " 'tsinghuaDaimlerDataset_2015-03-24_041424_000057361.txt',\n",
       " 'tsinghuaDaimlerDataset_2014-12-04_082614_000018264.txt',\n",
       " 'tsinghuaDaimlerDataset_2014-12-04_082614_000030104.txt',\n",
       " 'tsinghuaDaimlerDataset_2014-12-04_082614_000025554.txt',\n",
       " 'tsinghuaDaimlerDataset_2015-03-24_041424_000057286.txt',\n",
       " 'tsinghuaDaimlerDataset_2015-03-24_041424_000042226.txt',\n",
       " 'tsinghuaDaimlerDataset_2014-12-04_082614_000018249.txt',\n",
       " 'tsinghuaDaimlerDataset_2014-12-04_082614_000026174.txt',\n",
       " 'tsinghuaDaimlerDataset_2015-03-24_041424_000053446.txt',\n",
       " 'tsinghuaDaimlerDataset_2014-12-04_082614_000018159.txt',\n",
       " 'tsinghuaDaimlerDataset_2014-12-04_082614_000026654.txt',\n",
       " 'tsinghuaDaimlerDataset_2014-12-04_082614_000027909.txt',\n",
       " 'tsinghuaDaimlerDataset_2014-12-04_082614_000028539.txt',\n",
       " 'tsinghuaDaimlerDataset_2014-12-04_082614_000024779.txt',\n",
       " 'tsinghuaDaimlerDataset_2015-03-24_041424_000053841.txt',\n",
       " 'tsinghuaDaimlerDataset_2014-12-04_082614_000024199.txt',\n",
       " 'tsinghuaDaimlerDataset_2015-03-24_041424_000056891.txt',\n",
       " 'tsinghuaDaimlerDataset_2014-12-04_082614_000028164.txt',\n",
       " 'tsinghuaDaimlerDataset_2014-12-04_082614_000019069.txt',\n",
       " 'tsinghuaDaimlerDataset_2015-03-24_041424_000055631.txt',\n",
       " 'tsinghuaDaimlerDataset_2014-12-04_082614_000027944.txt',\n",
       " 'tsinghuaDaimlerDataset_2015-03-24_041424_000053381.txt',\n",
       " 'tsinghuaDaimlerDataset_2015-03-24_041424_000052191.txt',\n",
       " 'tsinghuaDaimlerDataset_2015-03-24_041424_000055821.txt',\n",
       " 'tsinghuaDaimlerDataset_2014-12-04_082614_000019214.txt',\n",
       " 'tsinghuaDaimlerDataset_2015-03-24_041424_000057086.txt',\n",
       " 'tsinghuaDaimlerDataset_2014-12-04_082614_000019739.txt',\n",
       " 'tsinghuaDaimlerDataset_2015-03-24_041424_000054146.txt',\n",
       " 'tsinghuaDaimlerDataset_2015-03-24_041424_000056246.txt',\n",
       " 'tsinghuaDaimlerDataset_2014-12-04_082614_000024079.txt',\n",
       " 'tsinghuaDaimlerDataset_2015-03-24_041424_000056711.txt',\n",
       " 'tsinghuaDaimlerDataset_2014-12-04_082614_000024959.txt',\n",
       " 'tsinghuaDaimlerDataset_2014-12-04_082614_000018724.txt',\n",
       " 'tsinghuaDaimlerDataset_2014-12-04_082614_000025339.txt',\n",
       " 'tsinghuaDaimlerDataset_2014-12-04_082614_000026069.txt',\n",
       " 'tsinghuaDaimlerDataset_2014-12-04_082614_000027649.txt',\n",
       " 'tsinghuaDaimlerDataset_2015-03-24_041424_000053731.txt',\n",
       " 'tsinghuaDaimlerDataset_2014-12-04_082614_000027174.txt',\n",
       " 'tsinghuaDaimlerDataset_2014-12-04_082614_000025329.txt',\n",
       " 'tsinghuaDaimlerDataset_2014-12-04_082614_000027854.txt',\n",
       " 'tsinghuaDaimlerDataset_2014-12-04_082614_000018694.txt',\n",
       " 'tsinghuaDaimlerDataset_2015-03-24_041424_000056681.txt',\n",
       " 'tsinghuaDaimlerDataset_2014-12-04_082614_000019709.txt',\n",
       " 'tsinghuaDaimlerDataset_2015-03-24_041424_000053181.txt',\n",
       " 'tsinghuaDaimlerDataset_2015-03-24_041424_000056846.txt',\n",
       " 'tsinghuaDaimlerDataset_2014-12-04_082614_000027194.txt',\n",
       " 'tsinghuaDaimlerDataset_2014-12-04_082614_000026134.txt',\n",
       " 'tsinghuaDaimlerDataset_2015-03-24_041424_000053136.txt',\n",
       " 'tsinghuaDaimlerDataset_2014-12-04_082614_000024699.txt',\n",
       " 'tsinghuaDaimlerDataset_2014-12-04_082614_000026444.txt',\n",
       " 'tsinghuaDaimlerDataset_2014-12-04_082614_000030339.txt',\n",
       " 'tsinghuaDaimlerDataset_2014-12-04_082614_000027659.txt',\n",
       " 'tsinghuaDaimlerDataset_2014-12-04_082614_000026909.txt',\n",
       " 'tsinghuaDaimlerDataset_2014-12-04_082614_000027014.txt',\n",
       " 'tsinghuaDaimlerDataset_2014-12-04_082614_000027369.txt',\n",
       " 'tsinghuaDaimlerDataset_2015-03-24_041424_000052686.txt',\n",
       " 'tsinghuaDaimlerDataset_2014-12-04_082614_000018869.txt',\n",
       " 'tsinghuaDaimlerDataset_2015-03-24_041424_000056786.txt',\n",
       " 'tsinghuaDaimlerDataset_2014-12-04_082614_000019264.txt',\n",
       " 'tsinghuaDaimlerDataset_2015-03-24_041424_000057186.txt',\n",
       " 'tsinghuaDaimlerDataset_2015-03-24_041424_000042926.txt',\n",
       " 'tsinghuaDaimlerDataset_2015-03-24_041424_000062231.txt',\n",
       " 'tsinghuaDaimlerDataset_2015-03-24_041424_000053466.txt',\n",
       " 'tsinghuaDaimlerDataset_2015-03-24_041424_000061986.txt',\n",
       " 'tsinghuaDaimlerDataset_2014-12-04_082614_000030279.txt',\n",
       " 'tsinghuaDaimlerDataset_2015-03-24_041424_000053321.txt',\n",
       " 'tsinghuaDaimlerDataset_2015-03-24_041424_000062261.txt',\n",
       " 'tsinghuaDaimlerDataset_2014-12-04_082614_000026339.txt',\n",
       " 'tsinghuaDaimlerDataset_2014-12-04_082614_000027444.txt',\n",
       " 'tsinghuaDaimlerDataset_2014-12-04_082614_000024149.txt',\n",
       " 'tsinghuaDaimlerDataset_2015-03-24_041424_000042386.txt',\n",
       " 'tsinghuaDaimlerDataset_2015-03-24_041424_000054621.txt',\n",
       " 'tsinghuaDaimlerDataset_2014-12-04_082614_000027569.txt',\n",
       " 'tsinghuaDaimlerDataset_2015-03-24_041424_000043046.txt',\n",
       " 'tsinghuaDaimlerDataset_2015-03-24_041424_000042511.txt',\n",
       " 'tsinghuaDaimlerDataset_2015-03-24_041424_000051951.txt',\n",
       " 'tsinghuaDaimlerDataset_2015-03-24_041424_000062116.txt',\n",
       " 'tsinghuaDaimlerDataset_2015-03-24_041424_000055041.txt',\n",
       " 'tsinghuaDaimlerDataset_2015-03-24_041424_000057006.txt',\n",
       " 'tsinghuaDaimlerDataset_2015-03-24_041424_000055761.txt',\n",
       " 'tsinghuaDaimlerDataset_2014-12-04_082614_000025039.txt',\n",
       " 'tsinghuaDaimlerDataset_2014-12-04_082614_000024044.txt',\n",
       " 'tsinghuaDaimlerDataset_2015-03-24_041424_000042331.txt',\n",
       " 'tsinghuaDaimlerDataset_2014-12-04_082614_000018964.txt',\n",
       " 'tsinghuaDaimlerDataset_2014-12-04_082614_000030344.txt',\n",
       " 'tsinghuaDaimlerDataset_2015-03-24_041424_000041976.txt',\n",
       " 'tsinghuaDaimlerDataset_2014-12-04_082614_000018949.txt',\n",
       " 'tsinghuaDaimlerDataset_2014-12-04_082614_000028479.txt',\n",
       " 'tsinghuaDaimlerDataset_2014-12-04_082614_000025204.txt',\n",
       " 'tsinghuaDaimlerDataset_2014-12-04_082614_000018669.txt',\n",
       " 'tsinghuaDaimlerDataset_2015-03-24_041424_000056526.txt',\n",
       " 'tsinghuaDaimlerDataset_2015-03-24_041424_000054026.txt',\n",
       " 'tsinghuaDaimlerDataset_2015-03-24_041424_000054116.txt',\n",
       " 'tsinghuaDaimlerDataset_2014-12-04_082614_000019579.txt',\n",
       " 'tsinghuaDaimlerDataset_2014-12-04_082614_000026119.txt',\n",
       " 'tsinghuaDaimlerDataset_2015-03-24_041424_000042941.txt',\n",
       " 'tsinghuaDaimlerDataset_2014-12-04_082614_000026839.txt',\n",
       " 'tsinghuaDaimlerDataset_2014-12-04_082614_000026244.txt',\n",
       " 'tsinghuaDaimlerDataset_2015-03-24_041424_000042086.txt',\n",
       " 'tsinghuaDaimlerDataset_2015-03-24_041424_000042486.txt',\n",
       " 'tsinghuaDaimlerDataset_2015-03-24_041424_000053871.txt',\n",
       " 'tsinghuaDaimlerDataset_2015-03-24_041424_000055536.txt',\n",
       " 'tsinghuaDaimlerDataset_2015-03-24_041424_000052736.txt',\n",
       " 'tsinghuaDaimlerDataset_2015-03-24_041424_000054971.txt',\n",
       " 'tsinghuaDaimlerDataset_2014-12-04_082614_000018604.txt',\n",
       " 'tsinghuaDaimlerDataset_2015-03-24_041424_000054426.txt',\n",
       " 'tsinghuaDaimlerDataset_2014-12-04_082614_000018279.txt',\n",
       " 'tsinghuaDaimlerDataset_2015-03-24_041424_000042581.txt',\n",
       " 'tsinghuaDaimlerDataset_2014-12-04_082614_000024434.txt',\n",
       " 'tsinghuaDaimlerDataset_2015-03-24_041424_000053061.txt',\n",
       " 'tsinghuaDaimlerDataset_2014-12-04_082614_000025009.txt',\n",
       " 'tsinghuaDaimlerDataset_2015-03-24_041424_000043051.txt',\n",
       " 'tsinghuaDaimlerDataset_2015-03-24_041424_000042566.txt',\n",
       " 'tsinghuaDaimlerDataset_2014-12-04_082614_000024124.txt',\n",
       " 'tsinghuaDaimlerDataset_2014-12-04_082614_000025744.txt',\n",
       " 'tsinghuaDaimlerDataset_2015-03-24_041424_000054826.txt',\n",
       " 'tsinghuaDaimlerDataset_2015-03-24_041424_000055501.txt',\n",
       " 'tsinghuaDaimlerDataset_2015-03-24_041424_000053866.txt',\n",
       " 'tsinghuaDaimlerDataset_2014-12-04_082614_000019844.txt',\n",
       " 'tsinghuaDaimlerDataset_2014-12-04_082614_000028334.txt',\n",
       " 'tsinghuaDaimlerDataset_2014-12-04_082614_000018404.txt',\n",
       " 'tsinghuaDaimlerDataset_2015-03-24_041424_000042756.txt',\n",
       " 'tsinghuaDaimlerDataset_2014-12-04_082614_000018409.txt',\n",
       " 'tsinghuaDaimlerDataset_2014-12-04_082614_000027639.txt',\n",
       " 'tsinghuaDaimlerDataset_2015-03-24_041424_000053346.txt',\n",
       " 'tsinghuaDaimlerDataset_2014-12-04_082614_000030164.txt',\n",
       " 'tsinghuaDaimlerDataset_2014-12-04_082614_000018899.txt',\n",
       " 'tsinghuaDaimlerDataset_2015-03-24_041424_000062151.txt',\n",
       " 'tsinghuaDaimlerDataset_2015-03-24_041424_000056306.txt',\n",
       " 'tsinghuaDaimlerDataset_2015-03-24_041424_000055091.txt',\n",
       " 'tsinghuaDaimlerDataset_2014-12-04_082614_000027599.txt',\n",
       " 'tsinghuaDaimlerDataset_2014-12-04_082614_000027894.txt',\n",
       " 'tsinghuaDaimlerDataset_2015-03-24_041424_000056791.txt',\n",
       " 'tsinghuaDaimlerDataset_2015-03-24_041424_000061916.txt',\n",
       " 'tsinghuaDaimlerDataset_2015-03-24_041424_000042721.txt',\n",
       " 'tsinghuaDaimlerDataset_2015-03-24_041424_000055886.txt',\n",
       " 'tsinghuaDaimlerDataset_2015-03-24_041424_000062311.txt',\n",
       " 'tsinghuaDaimlerDataset_2015-03-24_041424_000052261.txt',\n",
       " 'tsinghuaDaimlerDataset_2014-12-04_082614_000026364.txt',\n",
       " 'tsinghuaDaimlerDataset_2014-12-04_082614_000018484.txt',\n",
       " 'tsinghuaDaimlerDataset_2014-12-04_082614_000030364.txt',\n",
       " 'tsinghuaDaimlerDataset_2014-12-04_082614_000025584.txt',\n",
       " 'tsinghuaDaimlerDataset_2015-03-24_041424_000052606.txt',\n",
       " 'tsinghuaDaimlerDataset_2015-03-24_041424_000052961.txt',\n",
       " 'tsinghuaDaimlerDataset_2015-03-24_041424_000053226.txt',\n",
       " 'tsinghuaDaimlerDataset_2015-03-24_041424_000042071.txt',\n",
       " 'tsinghuaDaimlerDataset_2015-03-24_041424_000052676.txt',\n",
       " 'tsinghuaDaimlerDataset_2015-03-24_041424_000053906.txt',\n",
       " 'tsinghuaDaimlerDataset_2015-03-24_041424_000053366.txt',\n",
       " 'tsinghuaDaimlerDataset_2015-03-24_041424_000041966.txt',\n",
       " 'tsinghuaDaimlerDataset_2014-12-04_082614_000018654.txt',\n",
       " 'tsinghuaDaimlerDataset_2014-12-04_082614_000019734.txt',\n",
       " 'tsinghuaDaimlerDataset_2014-12-04_082614_000027859.txt',\n",
       " 'tsinghuaDaimlerDataset_2015-03-24_041424_000053751.txt',\n",
       " 'tsinghuaDaimlerDataset_2014-12-04_082614_000030494.txt',\n",
       " 'tsinghuaDaimlerDataset_2014-12-04_082614_000026204.txt',\n",
       " 'tsinghuaDaimlerDataset_2015-03-24_041424_000053686.txt',\n",
       " 'tsinghuaDaimlerDataset_2015-03-24_041424_000054181.txt',\n",
       " 'tsinghuaDaimlerDataset_2014-12-04_082614_000025319.txt',\n",
       " 'tsinghuaDaimlerDataset_2014-12-04_082614_000024114.txt',\n",
       " 'tsinghuaDaimlerDataset_2014-12-04_082614_000018094.txt',\n",
       " 'tsinghuaDaimlerDataset_2014-12-04_082614_000028214.txt',\n",
       " 'tsinghuaDaimlerDataset_2015-03-24_041424_000054086.txt',\n",
       " 'tsinghuaDaimlerDataset_2014-12-04_082614_000026999.txt',\n",
       " 'tsinghuaDaimlerDataset_2014-12-04_082614_000026649.txt',\n",
       " 'tsinghuaDaimlerDataset_2015-03-24_041424_000053056.txt',\n",
       " 'tsinghuaDaimlerDataset_2014-12-04_082614_000027224.txt',\n",
       " 'tsinghuaDaimlerDataset_2015-03-24_041424_000053471.txt',\n",
       " 'tsinghuaDaimlerDataset_2015-03-24_041424_000061946.txt',\n",
       " 'tsinghuaDaimlerDataset_2014-12-04_082614_000018959.txt',\n",
       " 'tsinghuaDaimlerDataset_2015-03-24_041424_000043096.txt',\n",
       " 'tsinghuaDaimlerDataset_2014-12-04_082614_000024099.txt',\n",
       " 'tsinghuaDaimlerDataset_2014-12-04_082614_000028399.txt',\n",
       " 'tsinghuaDaimlerDataset_2014-12-04_082614_000019299.txt',\n",
       " 'tsinghuaDaimlerDataset_2015-03-24_041424_000062191.txt',\n",
       " 'tsinghuaDaimlerDataset_2014-12-04_082614_000018134.txt',\n",
       " 'tsinghuaDaimlerDataset_2015-03-24_041424_000056121.txt',\n",
       " 'tsinghuaDaimlerDataset_2014-12-04_082614_000025644.txt',\n",
       " 'tsinghuaDaimlerDataset_2014-12-04_082614_000026314.txt',\n",
       " 'tsinghuaDaimlerDataset_2014-12-04_082614_000024569.txt',\n",
       " 'tsinghuaDaimlerDataset_2015-03-24_041424_000042181.txt',\n",
       " 'tsinghuaDaimlerDataset_2015-03-24_041424_000055731.txt',\n",
       " 'tsinghuaDaimlerDataset_2015-03-24_041424_000052271.txt',\n",
       " 'tsinghuaDaimlerDataset_2014-12-04_082614_000030424.txt',\n",
       " 'tsinghuaDaimlerDataset_2014-12-04_082614_000024829.txt',\n",
       " 'tsinghuaDaimlerDataset_2015-03-24_041424_000057451.txt',\n",
       " 'tsinghuaDaimlerDataset_2015-03-24_041424_000057161.txt',\n",
       " 'tsinghuaDaimlerDataset_2015-03-24_041424_000053586.txt',\n",
       " 'tsinghuaDaimlerDataset_2015-03-24_041424_000052291.txt',\n",
       " 'tsinghuaDaimlerDataset_2015-03-24_041424_000053106.txt',\n",
       " 'tsinghuaDaimlerDataset_2015-03-24_041424_000056611.txt',\n",
       " 'tsinghuaDaimlerDataset_2014-12-04_082614_000026604.txt',\n",
       " 'tsinghuaDaimlerDataset_2015-03-24_041424_000042781.txt',\n",
       " 'tsinghuaDaimlerDataset_2014-12-04_082614_000027574.txt',\n",
       " 'tsinghuaDaimlerDataset_2015-03-24_041424_000053801.txt',\n",
       " 'tsinghuaDaimlerDataset_2014-12-04_082614_000025064.txt',\n",
       " 'tsinghuaDaimlerDataset_2015-03-24_041424_000057026.txt',\n",
       " 'tsinghuaDaimlerDataset_2015-03-24_041424_000057061.txt',\n",
       " 'tsinghuaDaimlerDataset_2015-03-24_041424_000061881.txt',\n",
       " 'tsinghuaDaimlerDataset_2015-03-24_041424_000052946.txt',\n",
       " 'tsinghuaDaimlerDataset_2015-03-24_041424_000056531.txt',\n",
       " 'tsinghuaDaimlerDataset_2014-12-04_082614_000025189.txt',\n",
       " 'tsinghuaDaimlerDataset_2014-12-04_082614_000028534.txt',\n",
       " 'tsinghuaDaimlerDataset_2014-12-04_082614_000027849.txt',\n",
       " 'tsinghuaDaimlerDataset_2014-12-04_082614_000027834.txt',\n",
       " 'tsinghuaDaimlerDataset_2015-03-24_041424_000052996.txt',\n",
       " 'tsinghuaDaimlerDataset_2014-12-04_082614_000025364.txt',\n",
       " 'tsinghuaDaimlerDataset_2015-03-24_041424_000043091.txt',\n",
       " 'tsinghuaDaimlerDataset_2015-03-24_041424_000056176.txt',\n",
       " 'tsinghuaDaimlerDataset_2014-12-04_082614_000025354.txt',\n",
       " 'tsinghuaDaimlerDataset_2015-03-24_041424_000056781.txt',\n",
       " 'tsinghuaDaimlerDataset_2015-03-24_041424_000053881.txt',\n",
       " 'tsinghuaDaimlerDataset_2015-03-24_041424_000056596.txt',\n",
       " 'tsinghuaDaimlerDataset_2015-03-24_041424_000054646.txt',\n",
       " 'tsinghuaDaimlerDataset_2014-12-04_082614_000024804.txt',\n",
       " 'tsinghuaDaimlerDataset_2014-12-04_082614_000024689.txt',\n",
       " 'tsinghuaDaimlerDataset_2014-12-04_082614_000024049.txt',\n",
       " 'tsinghuaDaimlerDataset_2014-12-04_082614_000024609.txt',\n",
       " 'tsinghuaDaimlerDataset_2014-12-04_082614_000030079.txt',\n",
       " 'tsinghuaDaimlerDataset_2014-12-04_082614_000025804.txt',\n",
       " 'tsinghuaDaimlerDataset_2015-03-24_041424_000057647.txt',\n",
       " 'tsinghuaDaimlerDataset_2014-12-04_082614_000026979.txt',\n",
       " 'tsinghuaDaimlerDataset_2014-12-04_082614_000028199.txt',\n",
       " 'tsinghuaDaimlerDataset_2015-03-24_041424_000054871.txt',\n",
       " 'tsinghuaDaimlerDataset_2015-03-24_041424_000052926.txt',\n",
       " 'tsinghuaDaimlerDataset_2015-03-24_041424_000042026.txt',\n",
       " 'tsinghuaDaimlerDataset_2015-03-24_041424_000056686.txt',\n",
       " 'tsinghuaDaimlerDataset_2014-12-04_082614_000030454.txt',\n",
       " 'tsinghuaDaimlerDataset_2014-12-04_082614_000027509.txt',\n",
       " 'tsinghuaDaimlerDataset_2015-03-24_041424_000052696.txt',\n",
       " 'tsinghuaDaimlerDataset_2015-03-24_041424_000054876.txt',\n",
       " 'tsinghuaDaimlerDataset_2015-03-24_041424_000056771.txt',\n",
       " 'tsinghuaDaimlerDataset_2015-03-24_041424_000061981.txt',\n",
       " 'tsinghuaDaimlerDataset_2015-03-24_041424_000055221.txt',\n",
       " 'tsinghuaDaimlerDataset_2015-03-24_041424_000053786.txt',\n",
       " 'tsinghuaDaimlerDataset_2014-12-04_082614_000026014.txt',\n",
       " 'tsinghuaDaimlerDataset_2014-12-04_082614_000025949.txt',\n",
       " 'tsinghuaDaimlerDataset_2014-12-04_082614_000027254.txt',\n",
       " 'tsinghuaDaimlerDataset_2014-12-04_082614_000018879.txt',\n",
       " 'tsinghuaDaimlerDataset_2015-03-24_041424_000054246.txt',\n",
       " 'tsinghuaDaimlerDataset_2014-12-04_082614_000019429.txt',\n",
       " 'tsinghuaDaimlerDataset_2014-12-04_082614_000030219.txt',\n",
       " 'tsinghuaDaimlerDataset_2014-12-04_082614_000026554.txt',\n",
       " 'tsinghuaDaimlerDataset_2014-12-04_082614_000026584.txt',\n",
       " 'tsinghuaDaimlerDataset_2014-12-04_082614_000025229.txt',\n",
       " 'tsinghuaDaimlerDataset_2014-12-04_082614_000018149.txt',\n",
       " 'tsinghuaDaimlerDataset_2014-12-04_082614_000018419.txt',\n",
       " 'tsinghuaDaimlerDataset_2014-12-04_082614_000028014.txt',\n",
       " 'tsinghuaDaimlerDataset_2015-03-24_041424_000056966.txt',\n",
       " 'tsinghuaDaimlerDataset_2015-03-24_041424_000056201.txt',\n",
       " 'tsinghuaDaimlerDataset_2014-12-04_082614_000027119.txt',\n",
       " 'tsinghuaDaimlerDataset_2014-12-04_082614_000026264.txt',\n",
       " 'tsinghuaDaimlerDataset_2014-12-04_082614_000028129.txt',\n",
       " 'tsinghuaDaimlerDataset_2015-03-24_041424_000052571.txt',\n",
       " 'tsinghuaDaimlerDataset_2015-03-24_041424_000054361.txt',\n",
       " 'tsinghuaDaimlerDataset_2015-03-24_041424_000053301.txt',\n",
       " 'tsinghuaDaimlerDataset_2015-03-24_041424_000055746.txt',\n",
       " 'tsinghuaDaimlerDataset_2015-03-24_041424_000042901.txt',\n",
       " 'tsinghuaDaimlerDataset_2014-12-04_082614_000026964.txt',\n",
       " 'tsinghuaDaimlerDataset_2014-12-04_082614_000025099.txt',\n",
       " 'tsinghuaDaimlerDataset_2014-12-04_082614_000026924.txt',\n",
       " 'tsinghuaDaimlerDataset_2015-03-24_041424_000053126.txt',\n",
       " 'tsinghuaDaimlerDataset_2015-03-24_041424_000054636.txt',\n",
       " 'tsinghuaDaimlerDataset_2015-03-24_041424_000062431.txt',\n",
       " 'tsinghuaDaimlerDataset_2015-03-24_041424_000043036.txt',\n",
       " 'tsinghuaDaimlerDataset_2015-03-24_041424_000042076.txt',\n",
       " 'tsinghuaDaimlerDataset_2015-03-24_041424_000053856.txt',\n",
       " 'tsinghuaDaimlerDataset_2015-03-24_041424_000054101.txt',\n",
       " 'tsinghuaDaimlerDataset_2015-03-24_041424_000052581.txt',\n",
       " 'tsinghuaDaimlerDataset_2014-12-04_082614_000027614.txt',\n",
       " 'tsinghuaDaimlerDataset_2015-03-24_041424_000062181.txt',\n",
       " 'tsinghuaDaimlerDataset_2015-03-24_041424_000052316.txt',\n",
       " 'tsinghuaDaimlerDataset_2014-12-04_082614_000019879.txt',\n",
       " 'tsinghuaDaimlerDataset_2014-12-04_082614_000024339.txt',\n",
       " 'tsinghuaDaimlerDataset_2015-03-24_041424_000061951.txt',\n",
       " 'tsinghuaDaimlerDataset_2014-12-04_082614_000018564.txt',\n",
       " 'tsinghuaDaimlerDataset_2014-12-04_082614_000025684.txt',\n",
       " 'tsinghuaDaimlerDataset_2014-12-04_082614_000027149.txt',\n",
       " 'tsinghuaDaimlerDataset_2015-03-24_041424_000052356.txt',\n",
       " 'tsinghuaDaimlerDataset_2014-12-04_082614_000030109.txt',\n",
       " 'tsinghuaDaimlerDataset_2014-12-04_082614_000018314.txt',\n",
       " 'tsinghuaDaimlerDataset_2014-12-04_082614_000024389.txt',\n",
       " 'tsinghuaDaimlerDataset_2014-12-04_082614_000026929.txt',\n",
       " 'tsinghuaDaimlerDataset_2014-12-04_082614_000030239.txt',\n",
       " 'tsinghuaDaimlerDataset_2014-12-04_082614_000025504.txt',\n",
       " 'tsinghuaDaimlerDataset_2014-12-04_082614_000030199.txt',\n",
       " 'tsinghuaDaimlerDataset_2014-12-04_082614_000024639.txt',\n",
       " 'tsinghuaDaimlerDataset_2015-03-24_041424_000042771.txt',\n",
       " 'tsinghuaDaimlerDataset_2015-03-24_041424_000054561.txt',\n",
       " 'tsinghuaDaimlerDataset_2015-03-24_041424_000062096.txt',\n",
       " 'tsinghuaDaimlerDataset_2015-03-24_041424_000056486.txt',\n",
       " 'tsinghuaDaimlerDataset_2015-03-24_041424_000052281.txt',\n",
       " 'tsinghuaDaimlerDataset_2014-12-04_082614_000019759.txt',\n",
       " 'tsinghuaDaimlerDataset_2014-12-04_082614_000019614.txt',\n",
       " 'tsinghuaDaimlerDataset_2015-03-24_041424_000042856.txt',\n",
       " 'tsinghuaDaimlerDataset_2015-03-24_041424_000042631.txt',\n",
       " 'tsinghuaDaimlerDataset_2014-12-04_082614_000018629.txt',\n",
       " 'tsinghuaDaimlerDataset_2015-03-24_041424_000055231.txt',\n",
       " 'tsinghuaDaimlerDataset_2015-03-24_041424_000053901.txt',\n",
       " 'tsinghuaDaimlerDataset_2014-12-04_082614_000025799.txt',\n",
       " 'tsinghuaDaimlerDataset_2015-03-24_041424_000043016.txt',\n",
       " 'tsinghuaDaimlerDataset_2015-03-24_041424_000056671.txt',\n",
       " 'tsinghuaDaimlerDataset_2014-12-04_082614_000024194.txt',\n",
       " 'tsinghuaDaimlerDataset_2015-03-24_041424_000055721.txt',\n",
       " 'tsinghuaDaimlerDataset_2014-12-04_082614_000028414.txt',\n",
       " 'tsinghuaDaimlerDataset_2014-12-04_082614_000028094.txt',\n",
       " 'tsinghuaDaimlerDataset_2015-03-24_041424_000057486.txt',\n",
       " 'tsinghuaDaimlerDataset_2015-03-24_041424_000042881.txt',\n",
       " 'tsinghuaDaimlerDataset_2015-03-24_041424_000054301.txt',\n",
       " 'tsinghuaDaimlerDataset_2014-12-04_082614_000027934.txt',\n",
       " 'tsinghuaDaimlerDataset_2015-03-24_041424_000057261.txt',\n",
       " 'tsinghuaDaimlerDataset_2015-03-24_041424_000054096.txt',\n",
       " 'tsinghuaDaimlerDataset_2014-12-04_082614_000028549.txt',\n",
       " 'tsinghuaDaimlerDataset_2014-12-04_082614_000019014.txt',\n",
       " 'tsinghuaDaimlerDataset_2014-12-04_082614_000024034.txt',\n",
       " 'tsinghuaDaimlerDataset_2014-12-04_082614_000025024.txt',\n",
       " 'tsinghuaDaimlerDataset_2014-12-04_082614_000028114.txt',\n",
       " 'tsinghuaDaimlerDataset_2014-12-04_082614_000027724.txt',\n",
       " 'tsinghuaDaimlerDataset_2015-03-24_041424_000057276.txt',\n",
       " 'tsinghuaDaimlerDataset_2014-12-04_082614_000025734.txt',\n",
       " 'tsinghuaDaimlerDataset_2015-03-24_041424_000055666.txt',\n",
       " 'tsinghuaDaimlerDataset_2014-12-04_082614_000028204.txt',\n",
       " 'tsinghuaDaimlerDataset_2015-03-24_041424_000042791.txt',\n",
       " 'tsinghuaDaimlerDataset_2015-03-24_041424_000054306.txt',\n",
       " 'tsinghuaDaimlerDataset_2015-03-24_041424_000062551.txt',\n",
       " 'tsinghuaDaimlerDataset_2014-12-04_082614_000026464.txt',\n",
       " 'tsinghuaDaimlerDataset_2014-12-04_082614_000024529.txt',\n",
       " 'tsinghuaDaimlerDataset_2014-12-04_082614_000024884.txt',\n",
       " 'tsinghuaDaimlerDataset_2015-03-24_041424_000042531.txt',\n",
       " 'tsinghuaDaimlerDataset_2014-12-04_082614_000025084.txt',\n",
       " 'tsinghuaDaimlerDataset_2014-12-04_082614_000024394.txt',\n",
       " 'tsinghuaDaimlerDataset_2014-12-04_082614_000019009.txt',\n",
       " 'tsinghuaDaimlerDataset_2015-03-24_041424_000056986.txt',\n",
       " 'tsinghuaDaimlerDataset_2014-12-04_082614_000019854.txt',\n",
       " 'tsinghuaDaimlerDataset_2014-12-04_082614_000027754.txt',\n",
       " 'tsinghuaDaimlerDataset_2015-03-24_041424_000056591.txt',\n",
       " 'tsinghuaDaimlerDataset_2014-12-04_082614_000027829.txt',\n",
       " 'tsinghuaDaimlerDataset_2014-12-04_082614_000024264.txt',\n",
       " 'tsinghuaDaimlerDataset_2015-03-24_041424_000056766.txt',\n",
       " 'tsinghuaDaimlerDataset_2014-12-04_082614_000027234.txt',\n",
       " 'tsinghuaDaimlerDataset_2014-12-04_082614_000024504.txt',\n",
       " 'tsinghuaDaimlerDataset_2014-12-04_082614_000030469.txt',\n",
       " 'tsinghuaDaimlerDataset_2014-12-04_082614_000026044.txt',\n",
       " 'tsinghuaDaimlerDataset_2015-03-24_041424_000042871.txt',\n",
       " 'tsinghuaDaimlerDataset_2015-03-24_041424_000054841.txt',\n",
       " 'tsinghuaDaimlerDataset_2015-03-24_041424_000056186.txt',\n",
       " 'tsinghuaDaimlerDataset_2015-03-24_041424_000062201.txt',\n",
       " 'tsinghuaDaimlerDataset_2014-12-04_082614_000024004.txt',\n",
       " 'tsinghuaDaimlerDataset_2015-03-24_041424_000053066.txt',\n",
       " 'tsinghuaDaimlerDataset_2014-12-04_082614_000028244.txt',\n",
       " 'tsinghuaDaimlerDataset_2015-03-24_041424_000052576.txt',\n",
       " 'tsinghuaDaimlerDataset_2014-12-04_082614_000018294.txt',\n",
       " 'tsinghuaDaimlerDataset_2014-12-04_082614_000027164.txt',\n",
       " 'tsinghuaDaimlerDataset_2014-12-04_082614_000019354.txt',\n",
       " 'tsinghuaDaimlerDataset_2014-12-04_082614_000025709.txt',\n",
       " 'tsinghuaDaimlerDataset_2015-03-24_041424_000054421.txt',\n",
       " 'tsinghuaDaimlerDataset_2014-12-04_082614_000024029.txt',\n",
       " 'tsinghuaDaimlerDataset_2014-12-04_082614_000028309.txt',\n",
       " 'tsinghuaDaimlerDataset_2014-12-04_082614_000025639.txt',\n",
       " 'tsinghuaDaimlerDataset_2015-03-24_041424_000052436.txt',\n",
       " 'tsinghuaDaimlerDataset_2014-12-04_082614_000019724.txt',\n",
       " 'tsinghuaDaimlerDataset_2015-03-24_041424_000056396.txt',\n",
       " 'tsinghuaDaimlerDataset_2014-12-04_082614_000027279.txt',\n",
       " 'tsinghuaDaimlerDataset_2014-12-04_082614_000025134.txt',\n",
       " 'tsinghuaDaimlerDataset_2014-12-04_082614_000027064.txt',\n",
       " 'tsinghuaDaimlerDataset_2015-03-24_041424_000042776.txt',\n",
       " 'tsinghuaDaimlerDataset_2015-03-24_041424_000052666.txt',\n",
       " 'tsinghuaDaimlerDataset_2015-03-24_041424_000061971.txt',\n",
       " 'tsinghuaDaimlerDataset_2014-12-04_082614_000026474.txt',\n",
       " 'tsinghuaDaimlerDataset_2014-12-04_082614_000024244.txt',\n",
       " 'tsinghuaDaimlerDataset_2015-03-24_041424_000054851.txt',\n",
       " 'tsinghuaDaimlerDataset_2014-12-04_082614_000026859.txt',\n",
       " 'tsinghuaDaimlerDataset_2014-12-04_082614_000025454.txt',\n",
       " 'tsinghuaDaimlerDataset_2014-12-04_082614_000027329.txt',\n",
       " 'tsinghuaDaimlerDataset_2015-03-24_041424_000053996.txt',\n",
       " 'tsinghuaDaimlerDataset_2015-03-24_041424_000055366.txt',\n",
       " 'tsinghuaDaimlerDataset_2015-03-24_041424_000053566.txt',\n",
       " 'tsinghuaDaimlerDataset_2015-03-24_041424_000055931.txt',\n",
       " 'tsinghuaDaimlerDataset_2014-12-04_082614_000025964.txt',\n",
       " 'tsinghuaDaimlerDataset_2015-03-24_041424_000042636.txt',\n",
       " 'tsinghuaDaimlerDataset_2015-03-24_041424_000054326.txt',\n",
       " 'tsinghuaDaimlerDataset_2014-12-04_082614_000018119.txt',\n",
       " 'tsinghuaDaimlerDataset_2015-03-24_041424_000057121.txt',\n",
       " 'tsinghuaDaimlerDataset_2015-03-24_041424_000062306.txt',\n",
       " 'tsinghuaDaimlerDataset_2015-03-24_041424_000054061.txt',\n",
       " 'tsinghuaDaimlerDataset_2015-03-24_041424_000053941.txt',\n",
       " 'tsinghuaDaimlerDataset_2014-12-04_082614_000025299.txt',\n",
       " 'tsinghuaDaimlerDataset_2014-12-04_082614_000018244.txt',\n",
       " 'tsinghuaDaimlerDataset_2014-12-04_082614_000019789.txt',\n",
       " 'tsinghuaDaimlerDataset_2014-12-04_082614_000019794.txt',\n",
       " 'tsinghuaDaimlerDataset_2015-03-24_041424_000054521.txt',\n",
       " 'tsinghuaDaimlerDataset_2014-12-04_082614_000027374.txt',\n",
       " 'tsinghuaDaimlerDataset_2015-03-24_041424_000052886.txt',\n",
       " 'tsinghuaDaimlerDataset_2015-03-24_041424_000042831.txt',\n",
       " 'tsinghuaDaimlerDataset_2014-12-04_082614_000030209.txt',\n",
       " 'tsinghuaDaimlerDataset_2014-12-04_082614_000018349.txt',\n",
       " 'tsinghuaDaimlerDataset_2014-12-04_082614_000028274.txt',\n",
       " 'tsinghuaDaimlerDataset_2014-12-04_082614_000026619.txt',\n",
       " 'tsinghuaDaimlerDataset_2015-03-24_041424_000056001.txt',\n",
       " 'tsinghuaDaimlerDataset_2014-12-04_082614_000019159.txt',\n",
       " 'tsinghuaDaimlerDataset_2014-12-04_082614_000026919.txt',\n",
       " 'tsinghuaDaimlerDataset_2014-12-04_082614_000026504.txt',\n",
       " 'tsinghuaDaimlerDataset_2014-12-04_082614_000025264.txt',\n",
       " 'tsinghuaDaimlerDataset_2014-12-04_082614_000026689.txt',\n",
       " 'tsinghuaDaimlerDataset_2014-12-04_082614_000024179.txt',\n",
       " 'tsinghuaDaimlerDataset_2015-03-24_041424_000053426.txt',\n",
       " 'tsinghuaDaimlerDataset_2015-03-24_041424_000053531.txt',\n",
       " 'tsinghuaDaimlerDataset_2015-03-24_041424_000053261.txt',\n",
       " 'tsinghuaDaimlerDataset_2015-03-24_041424_000057241.txt',\n",
       " 'tsinghuaDaimlerDataset_2014-12-04_082614_000019874.txt',\n",
       " 'tsinghuaDaimlerDataset_2014-12-04_082614_000018829.txt',\n",
       " 'tsinghuaDaimlerDataset_2015-03-24_041424_000061886.txt',\n",
       " 'tsinghuaDaimlerDataset_2015-03-24_041424_000043131.txt',\n",
       " 'tsinghuaDaimlerDataset_2015-03-24_041424_000055866.txt',\n",
       " 'tsinghuaDaimlerDataset_2015-03-24_041424_000052651.txt',\n",
       " 'tsinghuaDaimlerDataset_2015-03-24_041424_000054506.txt',\n",
       " 'tsinghuaDaimlerDataset_2014-12-04_082614_000019079.txt',\n",
       " 'tsinghuaDaimlerDataset_2014-12-04_082614_000026479.txt',\n",
       " 'tsinghuaDaimlerDataset_2014-12-04_082614_000018114.txt',\n",
       " 'tsinghuaDaimlerDataset_2014-12-04_082614_000019054.txt',\n",
       " 'tsinghuaDaimlerDataset_2014-12-04_082614_000027079.txt',\n",
       " 'tsinghuaDaimlerDataset_2014-12-04_082614_000024644.txt',\n",
       " 'tsinghuaDaimlerDataset_2014-12-04_082614_000026519.txt',\n",
       " 'tsinghuaDaimlerDataset_2015-03-24_041424_000062031.txt',\n",
       " 'tsinghuaDaimlerDataset_2015-03-24_041424_000061866.txt',\n",
       " 'tsinghuaDaimlerDataset_2015-03-24_041424_000054176.txt',\n",
       " 'tsinghuaDaimlerDataset_2014-12-04_082614_000018999.txt',\n",
       " 'tsinghuaDaimlerDataset_2015-03-24_041424_000053176.txt',\n",
       " 'tsinghuaDaimlerDataset_2014-12-04_082614_000026874.txt',\n",
       " 'tsinghuaDaimlerDataset_2015-03-24_041424_000056451.txt',\n",
       " 'tsinghuaDaimlerDataset_2015-03-24_041424_000062291.txt',\n",
       " 'tsinghuaDaimlerDataset_2014-12-04_082614_000018379.txt',\n",
       " 'tsinghuaDaimlerDataset_2015-03-24_041424_000042381.txt',\n",
       " 'tsinghuaDaimlerDataset_2015-03-24_041424_000056061.txt',\n",
       " 'tsinghuaDaimlerDataset_2015-03-24_041424_000054821.txt',\n",
       " 'tsinghuaDaimlerDataset_2014-12-04_082614_000024219.txt',\n",
       " 'tsinghuaDaimlerDataset_2015-03-24_041424_000053641.txt',\n",
       " 'tsinghuaDaimlerDataset_2014-12-04_082614_000027334.txt',\n",
       " 'tsinghuaDaimlerDataset_2014-12-04_082614_000025244.txt',\n",
       " 'tsinghuaDaimlerDataset_2014-12-04_082614_000027744.txt',\n",
       " 'tsinghuaDaimlerDataset_2014-12-04_082614_000025194.txt',\n",
       " 'tsinghuaDaimlerDataset_2014-12-04_082614_000025569.txt',\n",
       " 'tsinghuaDaimlerDataset_2015-03-24_041424_000053916.txt',\n",
       " 'tsinghuaDaimlerDataset_2014-12-04_082614_000028499.txt',\n",
       " 'tsinghuaDaimlerDataset_2015-03-24_041424_000053256.txt',\n",
       " 'tsinghuaDaimlerDataset_2015-03-24_041424_000057717.txt',\n",
       " 'tsinghuaDaimlerDataset_2014-12-04_082614_000018499.txt',\n",
       " 'tsinghuaDaimlerDataset_2015-03-24_041424_000054411.txt',\n",
       " 'tsinghuaDaimlerDataset_2015-03-24_041424_000042896.txt',\n",
       " 'tsinghuaDaimlerDataset_2014-12-04_082614_000019824.txt',\n",
       " 'tsinghuaDaimlerDataset_2015-03-24_041424_000042091.txt',\n",
       " 'tsinghuaDaimlerDataset_2014-12-04_082614_000025614.txt',\n",
       " 'tsinghuaDaimlerDataset_2014-12-04_082614_000019169.txt',\n",
       " 'tsinghuaDaimlerDataset_2015-03-24_041424_000053216.txt',\n",
       " 'tsinghuaDaimlerDataset_2014-12-04_082614_000019469.txt',\n",
       " 'tsinghuaDaimlerDataset_2014-12-04_082614_000018124.txt',\n",
       " 'tsinghuaDaimlerDataset_2015-03-24_041424_000056871.txt',\n",
       " 'tsinghuaDaimlerDataset_2015-03-24_041424_000052041.txt',\n",
       " 'tsinghuaDaimlerDataset_2014-12-04_082614_000027019.txt',\n",
       " 'tsinghuaDaimlerDataset_2014-12-04_082614_000025999.txt',\n",
       " 'tsinghuaDaimlerDataset_2014-12-04_082614_000019694.txt',\n",
       " 'tsinghuaDaimlerDataset_2014-12-04_082614_000026329.txt',\n",
       " 'tsinghuaDaimlerDataset_2014-12-04_082614_000028139.txt',\n",
       " 'tsinghuaDaimlerDataset_2014-12-04_082614_000018524.txt',\n",
       " 'tsinghuaDaimlerDataset_2015-03-24_041424_000062366.txt',\n",
       " 'tsinghuaDaimlerDataset_2015-03-24_041424_000042966.txt',\n",
       " 'tsinghuaDaimlerDataset_2015-03-24_041424_000052026.txt',\n",
       " 'tsinghuaDaimlerDataset_2015-03-24_041424_000042131.txt',\n",
       " 'tsinghuaDaimlerDataset_2014-12-04_082614_000019604.txt',\n",
       " 'tsinghuaDaimlerDataset_2014-12-04_082614_000026214.txt',\n",
       " 'tsinghuaDaimlerDataset_2015-03-24_041424_000042816.txt',\n",
       " 'tsinghuaDaimlerDataset_2014-12-04_082614_000019464.txt',\n",
       " 'tsinghuaDaimlerDataset_2014-12-04_082614_000019384.txt',\n",
       " 'tsinghuaDaimlerDataset_2014-12-04_082614_000026784.txt',\n",
       " 'tsinghuaDaimlerDataset_2014-12-04_082614_000024659.txt',\n",
       " 'tsinghuaDaimlerDataset_2015-03-24_041424_000053631.txt',\n",
       " 'tsinghuaDaimlerDataset_2014-12-04_082614_000028119.txt',\n",
       " 'tsinghuaDaimlerDataset_2014-12-04_082614_000024514.txt',\n",
       " 'tsinghuaDaimlerDataset_2015-03-24_041424_000062141.txt',\n",
       " 'tsinghuaDaimlerDataset_2015-03-24_041424_000042356.txt',\n",
       " 'tsinghuaDaimlerDataset_2014-12-04_082614_000019454.txt',\n",
       " 'tsinghuaDaimlerDataset_2015-03-24_041424_000043041.txt',\n",
       " 'tsinghuaDaimlerDataset_2015-03-24_041424_000052011.txt',\n",
       " 'tsinghuaDaimlerDataset_2014-12-04_082614_000027489.txt',\n",
       " 'tsinghuaDaimlerDataset_2014-12-04_082614_000030464.txt',\n",
       " 'tsinghuaDaimlerDataset_2015-03-24_041424_000054771.txt',\n",
       " 'tsinghuaDaimlerDataset_2015-03-24_041424_000042506.txt',\n",
       " 'tsinghuaDaimlerDataset_2014-12-04_082614_000019544.txt',\n",
       " 'tsinghuaDaimlerDataset_2015-03-24_041424_000053086.txt',\n",
       " 'tsinghuaDaimlerDataset_2014-12-04_082614_000028304.txt',\n",
       " 'tsinghuaDaimlerDataset_2014-12-04_082614_000019084.txt',\n",
       " 'tsinghuaDaimlerDataset_2015-03-24_041424_000054711.txt',\n",
       " 'tsinghuaDaimlerDataset_2014-12-04_082614_000024634.txt',\n",
       " 'tsinghuaDaimlerDataset_2015-03-24_041424_000052266.txt',\n",
       " 'tsinghuaDaimlerDataset_2015-03-24_041424_000057416.txt',\n",
       " 'tsinghuaDaimlerDataset_2014-12-04_082614_000028084.txt',\n",
       " 'tsinghuaDaimlerDataset_2014-12-04_082614_000018439.txt',\n",
       " 'tsinghuaDaimlerDataset_2014-12-04_082614_000025239.txt',\n",
       " 'tsinghuaDaimlerDataset_2015-03-24_041424_000053861.txt',\n",
       " 'tsinghuaDaimlerDataset_2015-03-24_041424_000053951.txt',\n",
       " 'tsinghuaDaimlerDataset_2015-03-24_041424_000042166.txt',\n",
       " 'tsinghuaDaimlerDataset_2015-03-24_041424_000052386.txt',\n",
       " 'tsinghuaDaimlerDataset_2014-12-04_082614_000027109.txt',\n",
       " 'tsinghuaDaimlerDataset_2014-12-04_082614_000026324.txt',\n",
       " 'tsinghuaDaimlerDataset_2014-12-04_082614_000026904.txt',\n",
       " 'tsinghuaDaimlerDataset_2014-12-04_082614_000030334.txt',\n",
       " 'tsinghuaDaimlerDataset_2014-12-04_082614_000030459.txt',\n",
       " 'tsinghuaDaimlerDataset_2014-12-04_082614_000025704.txt',\n",
       " 'tsinghuaDaimlerDataset_2014-12-04_082614_000025404.txt',\n",
       " 'tsinghuaDaimlerDataset_2014-12-04_082614_000024119.txt',\n",
       " 'tsinghuaDaimlerDataset_2015-03-24_041424_000054861.txt',\n",
       " 'tsinghuaDaimlerDataset_2015-03-24_041424_000055361.txt',\n",
       " 'tsinghuaDaimlerDataset_2014-12-04_082614_000026764.txt',\n",
       " 'tsinghuaDaimlerDataset_2015-03-24_041424_000057031.txt',\n",
       " 'tsinghuaDaimlerDataset_2014-12-04_082614_000027219.txt',\n",
       " 'tsinghuaDaimlerDataset_2015-03-24_041424_000043151.txt',\n",
       " 'tsinghuaDaimlerDataset_2014-12-04_082614_000026494.txt',\n",
       " 'tsinghuaDaimlerDataset_2015-03-24_041424_000056851.txt',\n",
       " 'tsinghuaDaimlerDataset_2015-03-24_041424_000056231.txt',\n",
       " 'tsinghuaDaimlerDataset_2014-12-04_082614_000028109.txt',\n",
       " 'tsinghuaDaimlerDataset_2015-03-24_041424_000054651.txt',\n",
       " 'tsinghuaDaimlerDataset_2015-03-24_041424_000061901.txt',\n",
       " 'tsinghuaDaimlerDataset_2014-12-04_082614_000027214.txt',\n",
       " 'tsinghuaDaimlerDataset_2015-03-24_041424_000042261.txt',\n",
       " 'tsinghuaDaimlerDataset_2014-12-04_082614_000028064.txt',\n",
       " 'tsinghuaDaimlerDataset_2014-12-04_082614_000027434.txt',\n",
       " 'tsinghuaDaimlerDataset_2015-03-24_041424_000056561.txt',\n",
       " 'tsinghuaDaimlerDataset_2015-03-24_041424_000054931.txt',\n",
       " 'tsinghuaDaimlerDataset_2014-12-04_082614_000018969.txt',\n",
       " 'tsinghuaDaimlerDataset_2014-12-04_082614_000027494.txt',\n",
       " 'tsinghuaDaimlerDataset_2015-03-24_041424_000055861.txt',\n",
       " 'tsinghuaDaimlerDataset_2014-12-04_082614_000025714.txt',\n",
       " 'tsinghuaDaimlerDataset_2015-03-24_041424_000053491.txt',\n",
       " 'tsinghuaDaimlerDataset_2015-03-24_041424_000056581.txt',\n",
       " 'tsinghuaDaimlerDataset_2014-12-04_082614_000024429.txt',\n",
       " 'tsinghuaDaimlerDataset_2014-12-04_082614_000019234.txt',\n",
       " 'tsinghuaDaimlerDataset_2015-03-24_041424_000054461.txt',\n",
       " 'tsinghuaDaimlerDataset_2015-03-24_041424_000057677.txt',\n",
       " 'tsinghuaDaimlerDataset_2014-12-04_082614_000024904.txt',\n",
       " 'tsinghuaDaimlerDataset_2015-03-24_041424_000042716.txt',\n",
       " 'tsinghuaDaimlerDataset_2014-12-04_082614_000024674.txt',\n",
       " 'tsinghuaDaimlerDataset_2014-12-04_082614_000019174.txt',\n",
       " 'tsinghuaDaimlerDataset_2015-03-24_041424_000061921.txt',\n",
       " 'tsinghuaDaimlerDataset_2015-03-24_041424_000056226.txt',\n",
       " 'tsinghuaDaimlerDataset_2015-03-24_041424_000056066.txt',\n",
       " 'tsinghuaDaimlerDataset_2014-12-04_082614_000030324.txt',\n",
       " 'tsinghuaDaimlerDataset_2015-03-24_041424_000062011.txt',\n",
       " 'tsinghuaDaimlerDataset_2015-03-24_041424_000053071.txt',\n",
       " 'tsinghuaDaimlerDataset_2014-12-04_082614_000026199.txt',\n",
       " 'tsinghuaDaimlerDataset_2015-03-24_041424_000056036.txt',\n",
       " 'tsinghuaDaimlerDataset_2015-03-24_041424_000057742.txt',\n",
       " 'tsinghuaDaimlerDataset_2014-12-04_082614_000018354.txt',\n",
       " 'tsinghuaDaimlerDataset_2014-12-04_082614_000025414.txt',\n",
       " 'tsinghuaDaimlerDataset_2015-03-24_041424_000055751.txt',\n",
       " 'tsinghuaDaimlerDataset_2015-03-24_041424_000056366.txt',\n",
       " 'tsinghuaDaimlerDataset_2015-03-24_041424_000062421.txt',\n",
       " 'tsinghuaDaimlerDataset_2014-12-04_082614_000024444.txt',\n",
       " 'tsinghuaDaimlerDataset_2015-03-24_041424_000054206.txt',\n",
       " 'tsinghuaDaimlerDataset_2015-03-24_041424_000062371.txt',\n",
       " 'tsinghuaDaimlerDataset_2014-12-04_082614_000027804.txt',\n",
       " 'tsinghuaDaimlerDataset_2015-03-24_041424_000062221.txt',\n",
       " 'tsinghuaDaimlerDataset_2014-12-04_082614_000024839.txt',\n",
       " 'tsinghuaDaimlerDataset_2014-12-04_082614_000025374.txt',\n",
       " 'tsinghuaDaimlerDataset_2014-12-04_082614_000030409.txt',\n",
       " 'tsinghuaDaimlerDataset_2014-12-04_082614_000026099.txt',\n",
       " 'tsinghuaDaimlerDataset_2014-12-04_082614_000024309.txt',\n",
       " 'tsinghuaDaimlerDataset_2015-03-24_041424_000056631.txt',\n",
       " 'tsinghuaDaimlerDataset_2015-03-24_041424_000052346.txt',\n",
       " 'tsinghuaDaimlerDataset_2015-03-24_041424_000052561.txt',\n",
       " 'tsinghuaDaimlerDataset_2015-03-24_041424_000056091.txt',\n",
       " 'tsinghuaDaimlerDataset_2015-03-24_041424_000053911.txt',\n",
       " 'tsinghuaDaimlerDataset_2014-12-04_082614_000019119.txt',\n",
       " 'tsinghuaDaimlerDataset_2015-03-24_041424_000055901.txt',\n",
       " 'tsinghuaDaimlerDataset_2014-12-04_082614_000025434.txt',\n",
       " 'tsinghuaDaimlerDataset_2015-03-24_041424_000052721.txt',\n",
       " 'tsinghuaDaimlerDataset_2014-12-04_082614_000027884.txt',\n",
       " 'tsinghuaDaimlerDataset_2015-03-24_041424_000052541.txt',\n",
       " 'tsinghuaDaimlerDataset_2015-03-24_041424_000062036.txt',\n",
       " 'tsinghuaDaimlerDataset_2015-03-24_041424_000054451.txt',\n",
       " 'tsinghuaDaimlerDataset_2014-12-04_082614_000026344.txt',\n",
       " 'tsinghuaDaimlerDataset_2014-12-04_082614_000024894.txt',\n",
       " 'tsinghuaDaimlerDataset_2015-03-24_041424_000051976.txt',\n",
       " 'tsinghuaDaimlerDataset_2014-12-04_082614_000019099.txt',\n",
       " 'tsinghuaDaimlerDataset_2015-03-24_041424_000057386.txt',\n",
       " 'tsinghuaDaimlerDataset_2015-03-24_041424_000053646.txt',\n",
       " 'tsinghuaDaimlerDataset_2014-12-04_082614_000018309.txt',\n",
       " 'tsinghuaDaimlerDataset_2014-12-04_082614_000024289.txt',\n",
       " 'tsinghuaDaimlerDataset_2015-03-24_041424_000052876.txt',\n",
       " 'tsinghuaDaimlerDataset_2015-03-24_041424_000056031.txt',\n",
       " 'tsinghuaDaimlerDataset_2015-03-24_041424_000052846.txt',\n",
       " 'tsinghuaDaimlerDataset_2015-03-24_041424_000052806.txt',\n",
       " 'tsinghuaDaimlerDataset_2014-12-04_082614_000027084.txt',\n",
       " 'tsinghuaDaimlerDataset_2014-12-04_082614_000019224.txt',\n",
       " 'tsinghuaDaimlerDataset_2015-03-24_041424_000062351.txt',\n",
       " 'tsinghuaDaimlerDataset_2014-12-04_082614_000025659.txt',\n",
       " 'tsinghuaDaimlerDataset_2015-03-24_041424_000056171.txt',\n",
       " 'tsinghuaDaimlerDataset_2014-12-04_082614_000026424.txt',\n",
       " 'tsinghuaDaimlerDataset_2015-03-24_041424_000052406.txt',\n",
       " 'tsinghuaDaimlerDataset_2014-12-04_082614_000019684.txt',\n",
       " 'tsinghuaDaimlerDataset_2014-12-04_082614_000026184.txt',\n",
       " 'tsinghuaDaimlerDataset_2014-12-04_082614_000027059.txt',\n",
       " 'tsinghuaDaimlerDataset_2015-03-24_041424_000057506.txt',\n",
       " 'tsinghuaDaimlerDataset_2014-12-04_082614_000018284.txt',\n",
       " 'tsinghuaDaimlerDataset_2015-03-24_041424_000054906.txt',\n",
       " 'tsinghuaDaimlerDataset_2014-12-04_082614_000019144.txt',\n",
       " 'tsinghuaDaimlerDataset_2014-12-04_082614_000027274.txt',\n",
       " 'tsinghuaDaimlerDataset_2015-03-24_041424_000056756.txt',\n",
       " 'tsinghuaDaimlerDataset_2015-03-24_041424_000054991.txt',\n",
       " 'tsinghuaDaimlerDataset_2015-03-24_041424_000052861.txt',\n",
       " 'tsinghuaDaimlerDataset_2015-03-24_041424_000056346.txt',\n",
       " 'tsinghuaDaimlerDataset_2014-12-04_082614_000026559.txt',\n",
       " 'tsinghuaDaimlerDataset_2015-03-24_041424_000056701.txt',\n",
       " 'tsinghuaDaimlerDataset_2015-03-24_041424_000056146.txt',\n",
       " 'tsinghuaDaimlerDataset_2015-03-24_041424_000053021.txt',\n",
       " 'tsinghuaDaimlerDataset_2014-12-04_082614_000026109.txt',\n",
       " 'tsinghuaDaimlerDataset_2015-03-24_041424_000057221.txt',\n",
       " 'tsinghuaDaimlerDataset_2015-03-24_041424_000053146.txt',\n",
       " 'tsinghuaDaimlerDataset_2015-03-24_041424_000062491.txt',\n",
       " 'tsinghuaDaimlerDataset_2015-03-24_041424_000052466.txt',\n",
       " 'tsinghuaDaimlerDataset_2015-03-24_041424_000042656.txt',\n",
       " 'tsinghuaDaimlerDataset_2015-03-24_041424_000053101.txt',\n",
       " 'tsinghuaDaimlerDataset_2015-03-24_041424_000061931.txt',\n",
       " 'tsinghuaDaimlerDataset_2014-12-04_082614_000024224.txt',\n",
       " 'tsinghuaDaimlerDataset_2015-03-24_041424_000056076.txt',\n",
       " 'tsinghuaDaimlerDataset_2014-12-04_082614_000027749.txt',\n",
       " 'tsinghuaDaimlerDataset_2015-03-24_041424_000057697.txt',\n",
       " 'tsinghuaDaimlerDataset_2015-03-24_041424_000055176.txt',\n",
       " 'tsinghuaDaimlerDataset_2015-03-24_041424_000052716.txt',\n",
       " 'tsinghuaDaimlerDataset_2015-03-24_041424_000056141.txt',\n",
       " 'tsinghuaDaimlerDataset_2014-12-04_082614_000030094.txt',\n",
       " 'tsinghuaDaimlerDataset_2015-03-24_041424_000054781.txt',\n",
       " 'tsinghuaDaimlerDataset_2015-03-24_041424_000054471.txt',\n",
       " 'tsinghuaDaimlerDataset_2015-03-24_041424_000061991.txt',\n",
       " 'tsinghuaDaimlerDataset_2015-03-24_041424_000053546.txt',\n",
       " 'tsinghuaDaimlerDataset_2015-03-24_041424_000052156.txt',\n",
       " 'tsinghuaDaimlerDataset_2014-12-04_082614_000027664.txt',\n",
       " 'tsinghuaDaimlerDataset_2015-03-24_041424_000056106.txt',\n",
       " 'tsinghuaDaimlerDataset_2015-03-24_041424_000062536.txt',\n",
       " 'tsinghuaDaimlerDataset_2014-12-04_082614_000024724.txt',\n",
       " 'tsinghuaDaimlerDataset_2014-12-04_082614_000025059.txt',\n",
       " 'tsinghuaDaimlerDataset_2015-03-24_041424_000056421.txt',\n",
       " 'tsinghuaDaimlerDataset_2014-12-04_082614_000018154.txt',\n",
       " 'tsinghuaDaimlerDataset_2014-12-04_082614_000027954.txt',\n",
       " 'tsinghuaDaimlerDataset_2014-12-04_082614_000027479.txt',\n",
       " 'tsinghuaDaimlerDataset_2014-12-04_082614_000027399.txt',\n",
       " 'tsinghuaDaimlerDataset_2014-12-04_082614_000018634.txt',\n",
       " 'tsinghuaDaimlerDataset_2015-03-24_041424_000054041.txt',\n",
       " 'tsinghuaDaimlerDataset_2014-12-04_082614_000030289.txt',\n",
       " 'tsinghuaDaimlerDataset_2014-12-04_082614_000024844.txt',\n",
       " 'tsinghuaDaimlerDataset_2014-12-04_082614_000028089.txt',\n",
       " 'tsinghuaDaimlerDataset_2014-12-04_082614_000026399.txt',\n",
       " 'tsinghuaDaimlerDataset_2015-03-24_041424_000052566.txt',\n",
       " 'tsinghuaDaimlerDataset_2014-12-04_082614_000025249.txt',\n",
       " 'tsinghuaDaimlerDataset_2014-12-04_082614_000024809.txt',\n",
       " 'tsinghuaDaimlerDataset_2014-12-04_082614_000019479.txt',\n",
       " 'tsinghuaDaimlerDataset_2014-12-04_082614_000027779.txt',\n",
       " 'tsinghuaDaimlerDataset_2014-12-04_082614_000024824.txt',\n",
       " 'tsinghuaDaimlerDataset_2014-12-04_082614_000025989.txt',\n",
       " 'tsinghuaDaimlerDataset_2015-03-24_041424_000042876.txt',\n",
       " 'tsinghuaDaimlerDataset_2014-12-04_082614_000018919.txt',\n",
       " 'tsinghuaDaimlerDataset_2015-03-24_041424_000053511.txt',\n",
       " 'tsinghuaDaimlerDataset_2015-03-24_041424_000052991.txt',\n",
       " 'tsinghuaDaimlerDataset_2014-12-04_082614_000018199.txt',\n",
       " 'tsinghuaDaimlerDataset_2014-12-04_082614_000027669.txt',\n",
       " 'tsinghuaDaimlerDataset_2014-12-04_082614_000024354.txt',\n",
       " 'tsinghuaDaimlerDataset_2014-12-04_082614_000030329.txt',\n",
       " 'tsinghuaDaimlerDataset_2014-12-04_082614_000026864.txt',\n",
       " 'tsinghuaDaimlerDataset_2015-03-24_041424_000042311.txt',\n",
       " 'tsinghuaDaimlerDataset_2014-12-04_082614_000025724.txt',\n",
       " 'tsinghuaDaimlerDataset_2015-03-24_041424_000062021.txt',\n",
       " 'tsinghuaDaimlerDataset_2014-12-04_082614_000026799.txt',\n",
       " 'tsinghuaDaimlerDataset_2015-03-24_041424_000042396.txt',\n",
       " 'tsinghuaDaimlerDataset_2015-03-24_041424_000055001.txt',\n",
       " 'tsinghuaDaimlerDataset_2015-03-24_041424_000053876.txt',\n",
       " 'tsinghuaDaimlerDataset_2015-03-24_041424_000053826.txt',\n",
       " 'tsinghuaDaimlerDataset_2015-03-24_041424_000062446.txt',\n",
       " 'tsinghuaDaimlerDataset_2015-03-24_041424_000054231.txt',\n",
       " 'tsinghuaDaimlerDataset_2014-12-04_082614_000027999.txt',\n",
       " 'tsinghuaDaimlerDataset_2015-03-24_041424_000042861.txt',\n",
       " 'tsinghuaDaimlerDataset_2014-12-04_082614_000028409.txt',\n",
       " 'tsinghuaDaimlerDataset_2015-03-24_041424_000042276.txt',\n",
       " 'tsinghuaDaimlerDataset_2015-03-24_041424_000053076.txt',\n",
       " 'tsinghuaDaimlerDataset_2015-03-24_041424_000056256.txt',\n",
       " 'tsinghuaDaimlerDataset_2015-03-24_041424_000055531.txt',\n",
       " 'tsinghuaDaimlerDataset_2014-12-04_082614_000019184.txt',\n",
       " 'tsinghuaDaimlerDataset_2014-12-04_082614_000018229.txt',\n",
       " 'tsinghuaDaimlerDataset_2014-12-04_082614_000027379.txt',\n",
       " 'tsinghuaDaimlerDataset_2014-12-04_082614_000026694.txt',\n",
       " 'tsinghuaDaimlerDataset_2014-12-04_082614_000028159.txt',\n",
       " 'tsinghuaDaimlerDataset_2015-03-24_041424_000055461.txt',\n",
       " 'tsinghuaDaimlerDataset_2015-03-24_041424_000055436.txt',\n",
       " 'tsinghuaDaimlerDataset_2015-03-24_041424_000054726.txt',\n",
       " 'tsinghuaDaimlerDataset_2015-03-24_041424_000056516.txt',\n",
       " 'tsinghuaDaimlerDataset_2015-03-24_041424_000057466.txt',\n",
       " 'tsinghuaDaimlerDataset_2015-03-24_041424_000062256.txt',\n",
       " 'tsinghuaDaimlerDataset_2015-03-24_041424_000055826.txt',\n",
       " 'tsinghuaDaimlerDataset_2015-03-24_041424_000056971.txt',\n",
       " 'tsinghuaDaimlerDataset_2015-03-24_041424_000042641.txt',\n",
       " 'tsinghuaDaimlerDataset_2015-03-24_041424_000062361.txt',\n",
       " 'tsinghuaDaimlerDataset_2014-12-04_082614_000019324.txt',\n",
       " 'tsinghuaDaimlerDataset_2015-03-24_041424_000051911.txt',\n",
       " 'tsinghuaDaimlerDataset_2015-03-24_041424_000057632.txt',\n",
       " 'tsinghuaDaimlerDataset_2015-03-24_041424_000056426.txt',\n",
       " 'tsinghuaDaimlerDataset_2015-03-24_041424_000062526.txt',\n",
       " 'tsinghuaDaimlerDataset_2015-03-24_041424_000053771.txt',\n",
       " 'tsinghuaDaimlerDataset_2015-03-24_041424_000057391.txt',\n",
       " 'tsinghuaDaimlerDataset_2015-03-24_041424_000052756.txt',\n",
       " 'tsinghuaDaimlerDataset_2015-03-24_041424_000062286.txt',\n",
       " 'tsinghuaDaimlerDataset_2015-03-24_041424_000052216.txt',\n",
       " 'tsinghuaDaimlerDataset_2015-03-24_041424_000053606.txt',\n",
       " 'tsinghuaDaimlerDataset_2015-03-24_041424_000054121.txt',\n",
       " 'tsinghuaDaimlerDataset_2015-03-24_041424_000062396.txt',\n",
       " 'tsinghuaDaimlerDataset_2015-03-24_041424_000056046.txt',\n",
       " 'tsinghuaDaimlerDataset_2014-12-04_082614_000028229.txt',\n",
       " 'tsinghuaDaimlerDataset_2015-03-24_041424_000057191.txt',\n",
       " 'tsinghuaDaimlerDataset_2015-03-24_041424_000042146.txt',\n",
       " 'tsinghuaDaimlerDataset_2015-03-24_041424_000054746.txt',\n",
       " 'tsinghuaDaimlerDataset_2015-03-24_041424_000052496.txt',\n",
       " 'tsinghuaDaimlerDataset_2014-12-04_082614_000026394.txt',\n",
       " 'tsinghuaDaimlerDataset_2015-03-24_041424_000041986.txt',\n",
       " 'tsinghuaDaimlerDataset_2014-12-04_082614_000018299.txt',\n",
       " 'tsinghuaDaimlerDataset_2015-03-24_041424_000052131.txt',\n",
       " 'tsinghuaDaimlerDataset_2015-03-24_041424_000054171.txt',\n",
       " 'tsinghuaDaimlerDataset_2014-12-04_082614_000030184.txt',\n",
       " 'tsinghuaDaimlerDataset_2015-03-24_041424_000052476.txt',\n",
       " 'tsinghuaDaimlerDataset_2015-03-24_041424_000042616.txt',\n",
       " 'tsinghuaDaimlerDataset_2014-12-04_082614_000026484.txt',\n",
       " 'tsinghuaDaimlerDataset_2014-12-04_082614_000025629.txt',\n",
       " 'tsinghuaDaimlerDataset_2014-12-04_082614_000024864.txt',\n",
       " 'tsinghuaDaimlerDataset_2014-12-04_082614_000024929.txt',\n",
       " 'tsinghuaDaimlerDataset_2015-03-24_041424_000042056.txt',\n",
       " 'tsinghuaDaimlerDataset_2015-03-24_041424_000057687.txt',\n",
       " 'tsinghuaDaimlerDataset_2014-12-04_082614_000018089.txt',\n",
       " 'tsinghuaDaimlerDataset_2015-03-24_041424_000042806.txt',\n",
       " 'tsinghuaDaimlerDataset_2014-12-04_082614_000028074.txt',\n",
       " 'tsinghuaDaimlerDataset_2014-12-04_082614_000025664.txt',\n",
       " 'tsinghuaDaimlerDataset_2014-12-04_082614_000027924.txt',\n",
       " 'tsinghuaDaimlerDataset_2014-12-04_082614_000019574.txt',\n",
       " 'tsinghuaDaimlerDataset_2014-12-04_082614_000018924.txt',\n",
       " 'tsinghuaDaimlerDataset_2015-03-24_041424_000056111.txt',\n",
       " 'tsinghuaDaimlerDataset_2014-12-04_082614_000024614.txt',\n",
       " 'tsinghuaDaimlerDataset_2014-12-04_082614_000019414.txt',\n",
       " 'tsinghuaDaimlerDataset_2014-12-04_082614_000018659.txt',\n",
       " 'tsinghuaDaimlerDataset_2014-12-04_082614_000025524.txt',\n",
       " 'tsinghuaDaimlerDataset_2014-12-04_082614_000024994.txt',\n",
       " 'tsinghuaDaimlerDataset_2014-12-04_082614_000018459.txt',\n",
       " 'tsinghuaDaimlerDataset_2015-03-24_041424_000062331.txt',\n",
       " 'tsinghuaDaimlerDataset_2014-12-04_082614_000025419.txt',\n",
       " 'tsinghuaDaimlerDataset_2015-03-24_041424_000053456.txt',\n",
       " 'tsinghuaDaimlerDataset_2015-03-24_041424_000042731.txt',\n",
       " 'tsinghuaDaimlerDataset_2015-03-24_041424_000062386.txt',\n",
       " 'tsinghuaDaimlerDataset_2014-12-04_082614_000024039.txt',\n",
       " 'tsinghuaDaimlerDataset_2014-12-04_082614_000024229.txt',\n",
       " 'tsinghuaDaimlerDataset_2015-03-24_041424_000055226.txt',\n",
       " 'tsinghuaDaimlerDataset_2014-12-04_082614_000026589.txt',\n",
       " 'tsinghuaDaimlerDataset_2014-12-04_082614_000026714.txt',\n",
       " 'tsinghuaDaimlerDataset_2014-12-04_082614_000024359.txt',\n",
       " 'tsinghuaDaimlerDataset_2014-12-04_082614_000026164.txt',\n",
       " 'tsinghuaDaimlerDataset_2015-03-24_041424_000052006.txt',\n",
       " 'tsinghuaDaimlerDataset_2015-03-24_041424_000056386.txt',\n",
       " 'tsinghuaDaimlerDataset_2014-12-04_082614_000019624.txt',\n",
       " 'tsinghuaDaimlerDataset_2015-03-24_041424_000056191.txt',\n",
       " 'tsinghuaDaimlerDataset_2015-03-24_041424_000052511.txt',\n",
       " 'tsinghuaDaimlerDataset_2014-12-04_082614_000026739.txt',\n",
       " 'tsinghuaDaimlerDataset_2015-03-24_041424_000054606.txt',\n",
       " 'tsinghuaDaimlerDataset_2015-03-24_041424_000054731.txt',\n",
       " 'tsinghuaDaimlerDataset_2015-03-24_041424_000062356.txt',\n",
       " 'tsinghuaDaimlerDataset_2014-12-04_082614_000018424.txt',\n",
       " 'tsinghuaDaimlerDataset_2015-03-24_041424_000057351.txt',\n",
       " 'tsinghuaDaimlerDataset_2014-12-04_082614_000028189.txt',\n",
       " 'tsinghuaDaimlerDataset_2014-12-04_082614_000025104.txt',\n",
       " 'tsinghuaDaimlerDataset_2015-03-24_041424_000056946.txt',\n",
       " 'tsinghuaDaimlerDataset_2014-12-04_082614_000018399.txt',\n",
       " 'tsinghuaDaimlerDataset_2015-03-24_041424_000055081.txt',\n",
       " 'tsinghuaDaimlerDataset_2015-03-24_041424_000062471.txt',\n",
       " 'tsinghuaDaimlerDataset_2015-03-24_041424_000042081.txt',\n",
       " 'tsinghuaDaimlerDataset_2014-12-04_082614_000018594.txt',\n",
       " 'tsinghuaDaimlerDataset_2014-12-04_082614_000018219.txt',\n",
       " 'tsinghuaDaimlerDataset_2015-03-24_041424_000052881.txt',\n",
       " 'tsinghuaDaimlerDataset_2015-03-24_041424_000053691.txt',\n",
       " 'tsinghuaDaimlerDataset_2014-12-04_082614_000018259.txt',\n",
       " 'tsinghuaDaimlerDataset_2015-03-24_041424_000057081.txt',\n",
       " 'tsinghuaDaimlerDataset_2015-03-24_041424_000052461.txt',\n",
       " 'tsinghuaDaimlerDataset_2015-03-24_041424_000054816.txt',\n",
       " 'tsinghuaDaimlerDataset_2015-03-24_041424_000052491.txt',\n",
       " 'tsinghuaDaimlerDataset_2014-12-04_082614_000026779.txt',\n",
       " 'tsinghuaDaimlerDataset_2015-03-24_041424_000055676.txt',\n",
       " 'tsinghuaDaimlerDataset_2015-03-24_041424_000053111.txt',\n",
       " 'tsinghuaDaimlerDataset_2015-03-24_041424_000054351.txt',\n",
       " 'tsinghuaDaimlerDataset_2015-03-24_041424_000055706.txt',\n",
       " 'tsinghuaDaimlerDataset_2015-03-24_041424_000054956.txt',\n",
       " 'tsinghuaDaimlerDataset_2015-03-24_041424_000054346.txt',\n",
       " 'tsinghuaDaimlerDataset_2015-03-24_041424_000055011.txt',\n",
       " 'tsinghuaDaimlerDataset_2015-03-24_041424_000052941.txt',\n",
       " 'tsinghuaDaimlerDataset_2015-03-24_041424_000055326.txt',\n",
       " 'tsinghuaDaimlerDataset_2015-03-24_041424_000053811.txt',\n",
       " 'tsinghuaDaimlerDataset_2015-03-24_041424_000042376.txt',\n",
       " 'tsinghuaDaimlerDataset_2014-12-04_082614_000027309.txt',\n",
       " 'tsinghuaDaimlerDataset_2015-03-24_041424_000054331.txt',\n",
       " 'tsinghuaDaimlerDataset_2015-03-24_041424_000053206.txt',\n",
       " 'tsinghuaDaimlerDataset_2014-12-04_082614_000019074.txt',\n",
       " 'tsinghuaDaimlerDataset_2014-12-04_082614_000024384.txt',\n",
       " 'tsinghuaDaimlerDataset_2014-12-04_082614_000026679.txt',\n",
       " 'tsinghuaDaimlerDataset_2015-03-24_041424_000062271.txt',\n",
       " 'tsinghuaDaimlerDataset_2015-03-24_041424_000052091.txt',\n",
       " 'tsinghuaDaimlerDataset_2015-03-24_041424_000057141.txt',\n",
       " 'tsinghuaDaimlerDataset_2015-03-24_041424_000056086.txt',\n",
       " 'tsinghuaDaimlerDataset_2014-12-04_082614_000019134.txt',\n",
       " 'tsinghuaDaimlerDataset_2014-12-04_082614_000024534.txt',\n",
       " 'tsinghuaDaimlerDataset_2014-12-04_082614_000028544.txt',\n",
       " 'tsinghuaDaimlerDataset_2015-03-24_041424_000053291.txt',\n",
       " 'tsinghuaDaimlerDataset_2014-12-04_082614_000028079.txt',\n",
       " 'tsinghuaDaimlerDataset_2015-03-24_041424_000057041.txt',\n",
       " 'tsinghuaDaimlerDataset_2015-03-24_041424_000042956.txt',\n",
       " 'tsinghuaDaimlerDataset_2015-03-24_041424_000053376.txt',\n",
       " 'tsinghuaDaimlerDataset_2014-12-04_082614_000024954.txt',\n",
       " 'tsinghuaDaimlerDataset_2015-03-24_041424_000054021.txt',\n",
       " 'tsinghuaDaimlerDataset_2015-03-24_041424_000042701.txt',\n",
       " 'tsinghuaDaimlerDataset_2014-12-04_082614_000019834.txt',\n",
       " 'tsinghuaDaimlerDataset_2014-12-04_082614_000030384.txt',\n",
       " 'tsinghuaDaimlerDataset_2014-12-04_082614_000024939.txt',\n",
       " 'tsinghuaDaimlerDataset_2014-12-04_082614_000018649.txt',\n",
       " 'tsinghuaDaimlerDataset_2015-03-24_041424_000042986.txt',\n",
       " 'tsinghuaDaimlerDataset_2015-03-24_041424_000054856.txt',\n",
       " 'tsinghuaDaimlerDataset_2014-12-04_082614_000027449.txt',\n",
       " 'tsinghuaDaimlerDataset_2014-12-04_082614_000026914.txt',\n",
       " 'tsinghuaDaimlerDataset_2014-12-04_082614_000018144.txt',\n",
       " 'tsinghuaDaimlerDataset_2014-12-04_082614_000027554.txt',\n",
       " 'tsinghuaDaimlerDataset_2014-12-04_082614_000018914.txt',\n",
       " 'tsinghuaDaimlerDataset_2015-03-24_041424_000054386.txt',\n",
       " 'tsinghuaDaimlerDataset_2015-03-24_041424_000062266.txt',\n",
       " 'tsinghuaDaimlerDataset_2014-12-04_082614_000024549.txt',\n",
       " 'tsinghuaDaimlerDataset_2014-12-04_082614_000019499.txt',\n",
       " 'tsinghuaDaimlerDataset_2014-12-04_082614_000027709.txt',\n",
       " 'tsinghuaDaimlerDataset_2015-03-24_041424_000055031.txt',\n",
       " 'tsinghuaDaimlerDataset_2014-12-04_082614_000024094.txt',\n",
       " 'tsinghuaDaimlerDataset_2015-03-24_041424_000052111.txt',\n",
       " 'tsinghuaDaimlerDataset_2014-12-04_082614_000028559.txt',\n",
       " 'tsinghuaDaimlerDataset_2014-12-04_082614_000019309.txt',\n",
       " 'tsinghuaDaimlerDataset_2015-03-24_041424_000055151.txt',\n",
       " 'tsinghuaDaimlerDataset_2015-03-24_041424_000052286.txt',\n",
       " 'tsinghuaDaimlerDataset_2014-12-04_082614_000026449.txt',\n",
       " 'tsinghuaDaimlerDataset_2015-03-24_041424_000054376.txt',\n",
       " 'tsinghuaDaimlerDataset_2014-12-04_082614_000019019.txt',\n",
       " 'tsinghuaDaimlerDataset_2014-12-04_082614_000018204.txt',\n",
       " 'tsinghuaDaimlerDataset_2015-03-24_041424_000055426.txt',\n",
       " 'tsinghuaDaimlerDataset_2015-03-24_041424_000042521.txt',\n",
       " 'tsinghuaDaimlerDataset_2014-12-04_082614_000027919.txt',\n",
       " 'tsinghuaDaimlerDataset_2015-03-24_041424_000053431.txt',\n",
       " 'tsinghuaDaimlerDataset_2014-12-04_082614_000025994.txt',\n",
       " 'tsinghuaDaimlerDataset_2015-03-24_041424_000053156.txt',\n",
       " 'tsinghuaDaimlerDataset_2015-03-24_041424_000052956.txt',\n",
       " 'tsinghuaDaimlerDataset_2015-03-24_041424_000057011.txt',\n",
       " 'tsinghuaDaimlerDataset_2015-03-24_041424_000056211.txt',\n",
       " 'tsinghuaDaimlerDataset_2015-03-24_041424_000042606.txt',\n",
       " 'tsinghuaDaimlerDataset_2015-03-24_041424_000052206.txt',\n",
       " 'tsinghuaDaimlerDataset_2015-03-24_041424_000054236.txt',\n",
       " 'tsinghuaDaimlerDataset_2014-12-04_082614_000019714.txt',\n",
       " 'tsinghuaDaimlerDataset_2015-03-24_041424_000043136.txt',\n",
       " 'tsinghuaDaimlerDataset_2014-12-04_082614_000019699.txt',\n",
       " 'tsinghuaDaimlerDataset_2015-03-24_041424_000055791.txt',\n",
       " 'tsinghuaDaimlerDataset_2015-03-24_041424_000054946.txt',\n",
       " 'tsinghuaDaimlerDataset_2015-03-24_041424_000057481.txt',\n",
       " 'tsinghuaDaimlerDataset_2015-03-24_041424_000043066.txt',\n",
       " 'tsinghuaDaimlerDataset_2014-12-04_082614_000028024.txt',\n",
       " 'tsinghuaDaimlerDataset_2014-12-04_082614_000019259.txt',\n",
       " 'tsinghuaDaimlerDataset_2014-12-04_082614_000027069.txt',\n",
       " 'tsinghuaDaimlerDataset_2014-12-04_082614_000019529.txt',\n",
       " 'tsinghuaDaimlerDataset_2015-03-24_041424_000056221.txt',\n",
       " 'tsinghuaDaimlerDataset_2015-03-24_041424_000056456.txt',\n",
       " 'tsinghuaDaimlerDataset_2014-12-04_082614_000024499.txt',\n",
       " 'tsinghuaDaimlerDataset_2015-03-24_041424_000053746.txt',\n",
       " 'tsinghuaDaimlerDataset_2015-03-24_041424_000055126.txt',\n",
       " 'tsinghuaDaimlerDataset_2014-12-04_082614_000019029.txt',\n",
       " 'tsinghuaDaimlerDataset_2014-12-04_082614_000027034.txt',\n",
       " 'tsinghuaDaimlerDataset_2014-12-04_082614_000027459.txt',\n",
       " 'tsinghuaDaimlerDataset_2014-12-04_082614_000023999.txt',\n",
       " 'tsinghuaDaimlerDataset_2015-03-24_041424_000052001.txt',\n",
       " 'tsinghuaDaimlerDataset_2014-12-04_082614_000030114.txt',\n",
       " 'tsinghuaDaimlerDataset_2015-03-24_041424_000051981.txt',\n",
       " 'tsinghuaDaimlerDataset_2015-03-24_041424_000052431.txt',\n",
       " 'tsinghuaDaimlerDataset_2015-03-24_041424_000054081.txt',\n",
       " 'tsinghuaDaimlerDataset_2015-03-24_041424_000057326.txt',\n",
       " 'tsinghuaDaimlerDataset_2015-03-24_041424_000055036.txt',\n",
       " 'tsinghuaDaimlerDataset_2015-03-24_041424_000053416.txt',\n",
       " 'tsinghuaDaimlerDataset_2014-12-04_082614_000024899.txt',\n",
       " 'tsinghuaDaimlerDataset_2014-12-04_082614_000026284.txt',\n",
       " 'tsinghuaDaimlerDataset_2014-12-04_082614_000018534.txt',\n",
       " 'tsinghuaDaimlerDataset_2014-12-04_082614_000025674.txt',\n",
       " 'tsinghuaDaimlerDataset_2014-12-04_082614_000024589.txt',\n",
       " 'tsinghuaDaimlerDataset_2015-03-24_041424_000042321.txt',\n",
       " 'tsinghuaDaimlerDataset_2014-12-04_082614_000028459.txt',\n",
       " 'tsinghuaDaimlerDataset_2014-12-04_082614_000027809.txt',\n",
       " 'tsinghuaDaimlerDataset_2015-03-24_041424_000061956.txt',\n",
       " 'tsinghuaDaimlerDataset_2015-03-24_041424_000056016.txt',\n",
       " 'tsinghuaDaimlerDataset_2014-12-04_082614_000030369.txt',\n",
       " 'tsinghuaDaimlerDataset_2014-12-04_082614_000018974.txt',\n",
       " 'tsinghuaDaimlerDataset_2015-03-24_041424_000052196.txt',\n",
       " 'tsinghuaDaimlerDataset_2015-03-24_041424_000052771.txt',\n",
       " 'tsinghuaDaimlerDataset_2014-12-04_082614_000027634.txt',\n",
       " 'tsinghuaDaimlerDataset_2015-03-24_041424_000052201.txt',\n",
       " 'tsinghuaDaimlerDataset_2014-12-04_082614_000025739.txt',\n",
       " 'tsinghuaDaimlerDataset_2015-03-24_041424_000042516.txt',\n",
       " 'tsinghuaDaimlerDataset_2014-12-04_082614_000028234.txt',\n",
       " 'tsinghuaDaimlerDataset_2014-12-04_082614_000018759.txt',\n",
       " 'tsinghuaDaimlerDataset_2014-12-04_082614_000018179.txt',\n",
       " 'tsinghuaDaimlerDataset_2014-12-04_082614_000025464.txt',\n",
       " 'tsinghuaDaimlerDataset_2015-03-24_041424_000054016.txt',\n",
       " 'tsinghuaDaimlerDataset_2014-12-04_082614_000026089.txt',\n",
       " 'tsinghuaDaimlerDataset_2014-12-04_082614_000026819.txt',\n",
       " 'tsinghuaDaimlerDataset_2014-12-04_082614_000028249.txt',\n",
       " 'tsinghuaDaimlerDataset_2014-12-04_082614_000018709.txt',\n",
       " 'tsinghuaDaimlerDataset_2014-12-04_082614_000026154.txt',\n",
       " 'tsinghuaDaimlerDataset_2014-12-04_082614_000027204.txt',\n",
       " 'tsinghuaDaimlerDataset_2015-03-24_041424_000055546.txt',\n",
       " 'tsinghuaDaimlerDataset_2015-03-24_041424_000042316.txt',\n",
       " 'tsinghuaDaimlerDataset_2015-03-24_041424_000055611.txt',\n",
       " ...]"
      ]
     },
     "execution_count": 24,
     "metadata": {},
     "output_type": "execute_result"
    }
   ],
   "source": [
    "yolo_files"
   ]
  },
  {
   "cell_type": "code",
   "execution_count": 25,
   "metadata": {},
   "outputs": [
    {
     "data": {
      "text/plain": [
       "'./test/yolo/tsinghuaDaimlerDataset_2014-12-04_082614_000025764.txt'"
      ]
     },
     "execution_count": 25,
     "metadata": {},
     "output_type": "execute_result"
    }
   ],
   "source": [
    "\"./test/yolo/\"+acf_f.split(\".\")[0][:-4]+\".txt\""
   ]
  },
  {
   "cell_type": "code",
   "execution_count": 46,
   "metadata": {},
   "outputs": [
    {
     "data": {
      "text/plain": [
       "(21, 4)"
      ]
     },
     "execution_count": 46,
     "metadata": {},
     "output_type": "execute_result"
    }
   ],
   "source": [
    "np.shape(lf1)"
   ]
  },
  {
   "cell_type": "code",
   "execution_count": 48,
   "metadata": {},
   "outputs": [
    {
     "data": {
      "text/plain": [
       "(2, 4)"
      ]
     },
     "execution_count": 48,
     "metadata": {},
     "output_type": "execute_result"
    }
   ],
   "source": [
    "np.shape(lf2)"
   ]
  },
  {
   "cell_type": "code",
   "execution_count": 49,
   "metadata": {},
   "outputs": [
    {
     "data": {
      "text/plain": [
       "[['463.000000', '379.000000', '59.000000', '91.000000'],\n",
       " ['1552.000000', '359.000000', '83.000000', '129.000000'],\n",
       " ['1679.000000', '317.000000', '328.000000', '512.000000'],\n",
       " ['1316.000000', '363.000000', '32.000000', '50.000000'],\n",
       " ['1441.000000', '386.000000', '59.000000', '91.000000'],\n",
       " ['1403.000000', '363.000000', '42.000000', '65.000000'],\n",
       " ['1120.000000', '348.000000', '128.000000', '200.000000'],\n",
       " ['1363.000000', '387.000000', '49.000000', '77.000000'],\n",
       " ['1766.000000', '203.000000', '282.000000', '441.000000'],\n",
       " ['1008.000000', '467.000000', '42.000000', '65.000000'],\n",
       " ['1267.000000', '417.000000', '45.000000', '71.000000'],\n",
       " ['1872.000000', '808.000000', '38.000000', '60.000000'],\n",
       " ['896.000000', '342.000000', '64.000000', '100.000000'],\n",
       " ['1381.000000', '382.000000', '54.000000', '84.000000'],\n",
       " ['1300.000000', '355.000000', '32.000000', '50.000000'],\n",
       " ['452.000000', '343.000000', '32.000000', '50.000000'],\n",
       " ['723.000000', '394.000000', '42.000000', '65.000000'],\n",
       " ['1083.000000', '377.000000', '117.000000', '183.000000'],\n",
       " ['1320.000000', '-1.000000', '42.000000', '65.000000'],\n",
       " ['1199.000000', '853.000000', '45.000000', '71.000000'],\n",
       " ['878.000000', '357.000000', '59.000000', '91.000000']]"
      ]
     },
     "execution_count": 49,
     "metadata": {},
     "output_type": "execute_result"
    }
   ],
   "source": [
    "lf1"
   ]
  },
  {
   "cell_type": "code",
   "execution_count": 50,
   "metadata": {},
   "outputs": [
    {
     "data": {
      "text/plain": [
       "[['556', '382', '74', '110'], ['1443', '374', '85', '98']]"
      ]
     },
     "execution_count": 50,
     "metadata": {},
     "output_type": "execute_result"
    }
   ],
   "source": [
    "lf2"
   ]
  },
  {
   "cell_type": "markdown",
   "metadata": {},
   "source": [
    "# YOLO predicted boxes"
   ]
  },
  {
   "cell_type": "code",
   "execution_count": 2,
   "metadata": {},
   "outputs": [],
   "source": [
    "act_files = os.listdir(\"/media/talha/73fb317f-f61e-4b1f-b59e-5121d06d212b/Code(ACF)/data/Tsinghua-Daimler/test/posGt/\")\n",
    "yolo_files = os.listdir(\"./test/yolo/\")"
   ]
  },
  {
   "cell_type": "code",
   "execution_count": 53,
   "metadata": {},
   "outputs": [],
   "source": [
    "all_boxes = 0\n",
    "for act_f in act_files:\n",
    "    if act_f in yolo_files:\n",
    "        f1 = open(\"/media/talha/73fb317f-f61e-4b1f-b59e-5121d06d212b/Code(ACF)/data/Tsinghua-Daimler/test/posGt/\"+act_f,\"r\")\n",
    "        f2 = open(\"./test/yolo/\"+act_f,\"r\")\n",
    "        first_f1 = f1.read(1)\n",
    "        first_f2 = f2.read(1)\n",
    "        i = 0\n",
    "        j=0\n",
    "        k=0\n",
    "        if first_f1 and first_f2:\n",
    "            for l1 in f1:\n",
    "                if i>0:\n",
    "                    j+=1\n",
    "                i+=1    \n",
    "            f1.close()    \n",
    "            for l2 in f2:\n",
    "                k+=1\n",
    "            f2.close() \n",
    "            if j==k:\n",
    "                all_boxes+=1"
   ]
  },
  {
   "cell_type": "code",
   "execution_count": 54,
   "metadata": {},
   "outputs": [
    {
     "data": {
      "text/plain": [
       "275"
      ]
     },
     "execution_count": 54,
     "metadata": {},
     "output_type": "execute_result"
    }
   ],
   "source": [
    "all_boxes"
   ]
  },
  {
   "cell_type": "code",
   "execution_count": 112,
   "metadata": {},
   "outputs": [],
   "source": [
    "n_test_imgs = len(act_files)"
   ]
  },
  {
   "cell_type": "code",
   "execution_count": 57,
   "metadata": {},
   "outputs": [
    {
     "name": "stdout",
     "output_type": "stream",
     "text": [
      "9.43719972546 % images have no box left by YOLO\n"
     ]
    }
   ],
   "source": [
    "print str((all_boxes/float(n_test_imgs))*100) + \" % images have no box left by YOLO\" "
   ]
  },
  {
   "cell_type": "code",
   "execution_count": 58,
   "metadata": {},
   "outputs": [],
   "source": [
    "all_boxes = 0\n",
    "for act_f in act_files:\n",
    "    if act_f in yolo_files:\n",
    "        f1 = open(\"/media/talha/73fb317f-f61e-4b1f-b59e-5121d06d212b/Code(ACF)/data/Tsinghua-Daimler/test/posGt/\"+act_f,\"r\")\n",
    "        f2 = open(\"./test/yolo/\"+act_f,\"r\")\n",
    "        first_f1 = f1.read(1)\n",
    "        first_f2 = f2.read(1)\n",
    "        i = 0\n",
    "        j=0\n",
    "        k=0\n",
    "        if first_f1 and first_f2:\n",
    "            for l1 in f1:\n",
    "                if i>0:\n",
    "                    j+=1\n",
    "                i+=1    \n",
    "            f1.close()    \n",
    "            for l2 in f2:\n",
    "                k+=1\n",
    "            f2.close() \n",
    "            if k==j-1:\n",
    "                all_boxes+=1"
   ]
  },
  {
   "cell_type": "code",
   "execution_count": 59,
   "metadata": {},
   "outputs": [
    {
     "data": {
      "text/plain": [
       "200"
      ]
     },
     "execution_count": 59,
     "metadata": {},
     "output_type": "execute_result"
    }
   ],
   "source": [
    "all_boxes"
   ]
  },
  {
   "cell_type": "code",
   "execution_count": 60,
   "metadata": {},
   "outputs": [
    {
     "name": "stdout",
     "output_type": "stream",
     "text": [
      "6.86341798216 % images have one box left by YOLO\n"
     ]
    }
   ],
   "source": [
    "print str((all_boxes/float(n_test_imgs))*100) + \" % images have one box left by YOLO\" "
   ]
  },
  {
   "cell_type": "code",
   "execution_count": 61,
   "metadata": {},
   "outputs": [],
   "source": [
    "all_boxes = 0\n",
    "for act_f in act_files:\n",
    "    if act_f in yolo_files:\n",
    "        f1 = open(\"/media/talha/73fb317f-f61e-4b1f-b59e-5121d06d212b/Code(ACF)/data/Tsinghua-Daimler/test/posGt/\"+act_f,\"r\")\n",
    "        f2 = open(\"./test/yolo/\"+act_f,\"r\")\n",
    "        first_f1 = f1.read(1)\n",
    "        first_f2 = f2.read(1)\n",
    "        i = 0\n",
    "        j=0\n",
    "        k=0\n",
    "        if first_f1 and first_f2:\n",
    "            for l1 in f1:\n",
    "                if i>0:\n",
    "                    j+=1\n",
    "                i+=1    \n",
    "            f1.close()    \n",
    "            for l2 in f2:\n",
    "                k+=1\n",
    "            f2.close() \n",
    "            if k==j-2:\n",
    "                all_boxes+=1"
   ]
  },
  {
   "cell_type": "code",
   "execution_count": 62,
   "metadata": {},
   "outputs": [
    {
     "data": {
      "text/plain": [
       "124"
      ]
     },
     "execution_count": 62,
     "metadata": {},
     "output_type": "execute_result"
    }
   ],
   "source": [
    "all_boxes"
   ]
  },
  {
   "cell_type": "code",
   "execution_count": 63,
   "metadata": {},
   "outputs": [
    {
     "name": "stdout",
     "output_type": "stream",
     "text": [
      "4.25531914894 % images have two boxes left by YOLO\n"
     ]
    }
   ],
   "source": [
    "print str((all_boxes/float(n_test_imgs))*100) + \" % images have two boxes left by YOLO\" "
   ]
  },
  {
   "cell_type": "code",
   "execution_count": 64,
   "metadata": {},
   "outputs": [],
   "source": [
    "all_boxes = 0\n",
    "for act_f in act_files:\n",
    "    if act_f in yolo_files:\n",
    "        f1 = open(\"/media/talha/73fb317f-f61e-4b1f-b59e-5121d06d212b/Code(ACF)/data/Tsinghua-Daimler/test/posGt/\"+act_f,\"r\")\n",
    "        f2 = open(\"./test/yolo/\"+act_f,\"r\")\n",
    "        first_f1 = f1.read(1)\n",
    "        first_f2 = f2.read(1)\n",
    "        i = 0\n",
    "        j=0\n",
    "        k=0\n",
    "        if first_f1 and first_f2:\n",
    "            for l1 in f1:\n",
    "                if i>0:\n",
    "                    j+=1\n",
    "                i+=1    \n",
    "            f1.close()    \n",
    "            for l2 in f2:\n",
    "                k+=1\n",
    "            f2.close() \n",
    "            if k==j-3:\n",
    "                all_boxes+=1"
   ]
  },
  {
   "cell_type": "code",
   "execution_count": 65,
   "metadata": {},
   "outputs": [
    {
     "data": {
      "text/plain": [
       "61"
      ]
     },
     "execution_count": 65,
     "metadata": {},
     "output_type": "execute_result"
    }
   ],
   "source": [
    "all_boxes"
   ]
  },
  {
   "cell_type": "code",
   "execution_count": 66,
   "metadata": {},
   "outputs": [
    {
     "name": "stdout",
     "output_type": "stream",
     "text": [
      "2.09334248456 % images have three boxes left by YOLO\n"
     ]
    }
   ],
   "source": [
    "print str((all_boxes/float(n_test_imgs))*100) + \" % images have three boxes left by YOLO\" "
   ]
  },
  {
   "cell_type": "code",
   "execution_count": 67,
   "metadata": {},
   "outputs": [],
   "source": [
    "all_boxes = 0\n",
    "for act_f in act_files:\n",
    "    if act_f in yolo_files:\n",
    "        f1 = open(\"/media/talha/73fb317f-f61e-4b1f-b59e-5121d06d212b/Code(ACF)/data/Tsinghua-Daimler/test/posGt/\"+act_f,\"r\")\n",
    "        f2 = open(\"./test/yolo/\"+act_f,\"r\")\n",
    "        first_f1 = f1.read(1)\n",
    "        first_f2 = f2.read(1)\n",
    "        i = 0\n",
    "        j=0\n",
    "        k=0\n",
    "        if first_f1 and first_f2:\n",
    "            for l1 in f1:\n",
    "                if i>0:\n",
    "                    j+=1\n",
    "                i+=1    \n",
    "            f1.close()    \n",
    "            for l2 in f2:\n",
    "                k+=1\n",
    "            f2.close() \n",
    "            if k==j-4:\n",
    "                all_boxes+=1"
   ]
  },
  {
   "cell_type": "code",
   "execution_count": 69,
   "metadata": {},
   "outputs": [
    {
     "name": "stdout",
     "output_type": "stream",
     "text": [
      "0.823610157859 % images have four boxes left by YOLO\n"
     ]
    }
   ],
   "source": [
    "print str((all_boxes/float(n_test_imgs))*100) + \" % images have four boxes left by YOLO\" "
   ]
  },
  {
   "cell_type": "code",
   "execution_count": 70,
   "metadata": {},
   "outputs": [],
   "source": [
    "all_boxes = 0\n",
    "for act_f in act_files:\n",
    "    if act_f in yolo_files:\n",
    "        f1 = open(\"/media/talha/73fb317f-f61e-4b1f-b59e-5121d06d212b/Code(ACF)/data/Tsinghua-Daimler/test/posGt/\"+act_f,\"r\")\n",
    "        f2 = open(\"./test/yolo/\"+act_f,\"r\")\n",
    "        first_f1 = f1.read(1)\n",
    "        first_f2 = f2.read(1)\n",
    "        i = 0\n",
    "        j=0\n",
    "        k=0\n",
    "        if first_f1 and first_f2:\n",
    "            for l1 in f1:\n",
    "                if i>0:\n",
    "                    j+=1\n",
    "                i+=1    \n",
    "            f1.close()    \n",
    "            for l2 in f2:\n",
    "                k+=1\n",
    "            f2.close() \n",
    "            if k==j-5:\n",
    "                all_boxes+=1"
   ]
  },
  {
   "cell_type": "code",
   "execution_count": 72,
   "metadata": {},
   "outputs": [
    {
     "name": "stdout",
     "output_type": "stream",
     "text": [
      "0.171585449554 % images have five boxes left by YOLO\n"
     ]
    }
   ],
   "source": [
    "print str((all_boxes/float(n_test_imgs))*100) + \" % images have five boxes left by YOLO\" "
   ]
  },
  {
   "cell_type": "code",
   "execution_count": 73,
   "metadata": {},
   "outputs": [],
   "source": [
    "all_boxes = 0\n",
    "for act_f in act_files:\n",
    "    if act_f in yolo_files:\n",
    "        f1 = open(\"/media/talha/73fb317f-f61e-4b1f-b59e-5121d06d212b/Code(ACF)/data/Tsinghua-Daimler/test/posGt/\"+act_f,\"r\")\n",
    "        f2 = open(\"./test/yolo/\"+act_f,\"r\")\n",
    "        first_f1 = f1.read(1)\n",
    "        first_f2 = f2.read(1)\n",
    "        i = 0\n",
    "        j=0\n",
    "        k=0\n",
    "        if first_f1 and first_f2:\n",
    "            for l1 in f1:\n",
    "                if i>0:\n",
    "                    j+=1\n",
    "                i+=1    \n",
    "            f1.close()    \n",
    "            for l2 in f2:\n",
    "                k+=1\n",
    "            f2.close() \n",
    "            if k==j-6:\n",
    "                all_boxes+=1"
   ]
  },
  {
   "cell_type": "code",
   "execution_count": 74,
   "metadata": {},
   "outputs": [
    {
     "data": {
      "text/plain": [
       "1"
      ]
     },
     "execution_count": 74,
     "metadata": {},
     "output_type": "execute_result"
    }
   ],
   "source": [
    "all_boxes"
   ]
  },
  {
   "cell_type": "code",
   "execution_count": 75,
   "metadata": {},
   "outputs": [
    {
     "name": "stdout",
     "output_type": "stream",
     "text": [
      "0.0343170899108 % images have six boxes left by YOLO\n"
     ]
    }
   ],
   "source": [
    "print str((all_boxes/float(n_test_imgs))*100) + \" % images have six boxes left by YOLO\" "
   ]
  },
  {
   "cell_type": "code",
   "execution_count": 76,
   "metadata": {},
   "outputs": [],
   "source": [
    "all_boxes = 0\n",
    "for act_f in act_files:\n",
    "    if act_f in yolo_files:\n",
    "        f1 = open(\"/media/talha/73fb317f-f61e-4b1f-b59e-5121d06d212b/Code(ACF)/data/Tsinghua-Daimler/test/posGt/\"+act_f,\"r\")\n",
    "        f2 = open(\"./test/yolo/\"+act_f,\"r\")\n",
    "        first_f1 = f1.read(1)\n",
    "        first_f2 = f2.read(1)\n",
    "        i = 0\n",
    "        j=0\n",
    "        k=0\n",
    "        if first_f1 and first_f2:\n",
    "            for l1 in f1:\n",
    "                if i>0:\n",
    "                    j+=1\n",
    "                i+=1    \n",
    "            f1.close()    \n",
    "            for l2 in f2:\n",
    "                k+=1\n",
    "            f2.close() \n",
    "            if k==j-7:\n",
    "                all_boxes+=1"
   ]
  },
  {
   "cell_type": "code",
   "execution_count": 77,
   "metadata": {},
   "outputs": [
    {
     "data": {
      "text/plain": [
       "1"
      ]
     },
     "execution_count": 77,
     "metadata": {},
     "output_type": "execute_result"
    }
   ],
   "source": [
    "all_boxes"
   ]
  },
  {
   "cell_type": "code",
   "execution_count": 78,
   "metadata": {},
   "outputs": [
    {
     "name": "stdout",
     "output_type": "stream",
     "text": [
      "0.0343170899108 % images have seven boxes left by YOLO\n"
     ]
    }
   ],
   "source": [
    "print str((all_boxes/float(n_test_imgs))*100) + \" % images have seven boxes left by YOLO\" "
   ]
  },
  {
   "cell_type": "code",
   "execution_count": 85,
   "metadata": {},
   "outputs": [
    {
     "name": "stdout",
     "output_type": "stream",
     "text": [
      "tsinghuaDaimlerDataset_2014-12-04_082614_000030494.txt\n",
      "tsinghuaDaimlerDataset_2014-12-04_082614_000030469.txt\n"
     ]
    }
   ],
   "source": [
    "all_boxes = 0\n",
    "for act_f in act_files:\n",
    "    if act_f in yolo_files:\n",
    "        f1 = open(\"/media/talha/73fb317f-f61e-4b1f-b59e-5121d06d212b/Code(ACF)/data/Tsinghua-Daimler/test/posGt/\"+act_f,\"r\")\n",
    "        f2 = open(\"./test/yolo/\"+act_f,\"r\")\n",
    "        first_f1 = f1.read(1)\n",
    "        first_f2 = f2.read(1)\n",
    "        i = 0\n",
    "        j=0\n",
    "        k=0\n",
    "        if first_f1 and first_f2:\n",
    "            for l1 in f1:\n",
    "                if i>0:\n",
    "                    j+=1\n",
    "                i+=1    \n",
    "            f1.close()    \n",
    "            for l2 in f2:\n",
    "                k+=1\n",
    "            f2.close() \n",
    "            if k==j-8:\n",
    "                print act_f\n",
    "                all_boxes+=1"
   ]
  },
  {
   "cell_type": "code",
   "execution_count": 86,
   "metadata": {},
   "outputs": [
    {
     "data": {
      "text/plain": [
       "2"
      ]
     },
     "execution_count": 86,
     "metadata": {},
     "output_type": "execute_result"
    }
   ],
   "source": [
    "all_boxes"
   ]
  },
  {
   "cell_type": "code",
   "execution_count": 87,
   "metadata": {},
   "outputs": [
    {
     "name": "stdout",
     "output_type": "stream",
     "text": [
      "0.0686341798216 % images have eight boxes left by YOLO\n"
     ]
    }
   ],
   "source": [
    "print str((all_boxes/float(n_test_imgs))*100) + \" % images have eight boxes left by YOLO\" "
   ]
  },
  {
   "cell_type": "markdown",
   "metadata": {},
   "source": [
    "# YOLO didn't predicted any boxes when there were some"
   ]
  },
  {
   "cell_type": "code",
   "execution_count": 90,
   "metadata": {},
   "outputs": [],
   "source": [
    "all_boxes = 0\n",
    "for act_f in act_files:\n",
    "    if act_f in yolo_files:\n",
    "        f1 = open(\"/media/talha/73fb317f-f61e-4b1f-b59e-5121d06d212b/Code(ACF)/data/Tsinghua-Daimler/test/posGt/\"+act_f,\"r\")\n",
    "        f2 = open(\"./test/yolo/\"+act_f,\"r\")\n",
    "        first_f1 = f1.read(1)\n",
    "        first_f2 = f2.read(1)\n",
    "        i = 0\n",
    "        j=0\n",
    "        k=0\n",
    "        if first_f1 and first_f2:\n",
    "            for l1 in f1:\n",
    "                if i>0:\n",
    "                    j+=1\n",
    "                i+=1    \n",
    "            f1.close()    \n",
    "            for l2 in f2:\n",
    "                k+=1\n",
    "            f2.close() \n",
    "            if k==0 and j>0:\n",
    "                all_boxes+=1"
   ]
  },
  {
   "cell_type": "code",
   "execution_count": 91,
   "metadata": {},
   "outputs": [
    {
     "data": {
      "text/plain": [
       "0"
      ]
     },
     "execution_count": 91,
     "metadata": {},
     "output_type": "execute_result"
    }
   ],
   "source": [
    "all_boxes"
   ]
  },
  {
   "cell_type": "code",
   "execution_count": 93,
   "metadata": {},
   "outputs": [
    {
     "name": "stdout",
     "output_type": "stream",
     "text": [
      "There are no images like that\n"
     ]
    }
   ],
   "source": [
    "print \"There are no images like that\""
   ]
  },
  {
   "cell_type": "markdown",
   "metadata": {},
   "source": [
    "# YOLO predicted any when there was none"
   ]
  },
  {
   "cell_type": "code",
   "execution_count": 99,
   "metadata": {},
   "outputs": [
    {
     "name": "stdout",
     "output_type": "stream",
     "text": [
      "tsinghuaDaimlerDataset_2014-12-04_082614_000024829.txt\n",
      "tsinghuaDaimlerDataset_2014-12-04_082614_000025299.txt\n",
      "tsinghuaDaimlerDataset_2014-12-04_082614_000026559.txt\n",
      "tsinghuaDaimlerDataset_2014-12-04_082614_000024844.txt\n",
      "tsinghuaDaimlerDataset_2015-03-24_041424_000055811.txt\n",
      "tsinghuaDaimlerDataset_2015-03-24_041424_000052596.txt\n",
      "tsinghuaDaimlerDataset_2014-12-04_082614_000025304.txt\n"
     ]
    }
   ],
   "source": [
    "all_boxes = 0\n",
    "for act_f in act_files:\n",
    "    if act_f in yolo_files:\n",
    "        f1 = open(\"/media/talha/73fb317f-f61e-4b1f-b59e-5121d06d212b/Code(ACF)/data/Tsinghua-Daimler/test/posGt/\"+act_f,\"r\")\n",
    "        f2 = open(\"./test/yolo/\"+act_f,\"r\")\n",
    "        first_f1 = f1.read(1)\n",
    "        first_f2 = f2.read(1)\n",
    "        i = 0\n",
    "        j=0\n",
    "        k=0\n",
    "        if first_f1 and first_f2:\n",
    "            for l1 in f1:\n",
    "                if i>0:\n",
    "                    j+=1\n",
    "                i+=1    \n",
    "            f1.close()    \n",
    "            for l2 in f2:\n",
    "                k+=1\n",
    "            f2.close() \n",
    "            if k>0 and j==0:\n",
    "                print act_f\n",
    "                all_boxes+=1"
   ]
  },
  {
   "cell_type": "code",
   "execution_count": 100,
   "metadata": {},
   "outputs": [
    {
     "data": {
      "text/plain": [
       "7"
      ]
     },
     "execution_count": 100,
     "metadata": {},
     "output_type": "execute_result"
    }
   ],
   "source": [
    "all_boxes"
   ]
  },
  {
   "cell_type": "code",
   "execution_count": 101,
   "metadata": {},
   "outputs": [
    {
     "name": "stdout",
     "output_type": "stream",
     "text": [
      "0.240219629375 % images had no boxes but YOLO predicted some\n"
     ]
    }
   ],
   "source": [
    "print str((all_boxes/float(n_test_imgs))*100) + \" % images had no boxes but YOLO predicted some\" "
   ]
  },
  {
   "cell_type": "markdown",
   "metadata": {},
   "source": [
    "# YOLO predicted some when there were some"
   ]
  },
  {
   "cell_type": "code",
   "execution_count": 110,
   "metadata": {},
   "outputs": [],
   "source": [
    "all_boxes = 0\n",
    "for act_f in act_files:\n",
    "    if act_f in yolo_files:\n",
    "        f1 = open(\"/media/talha/73fb317f-f61e-4b1f-b59e-5121d06d212b/Code(ACF)/data/Tsinghua-Daimler/test/posGt/\"+act_f,\"r\")\n",
    "        f2 = open(\"./test/yolo/\"+act_f,\"r\")\n",
    "        first_f1 = f1.read(1)\n",
    "        first_f2 = f2.read(1)\n",
    "        i = 0\n",
    "        j=0\n",
    "        k=0\n",
    "        if first_f1 and first_f2:\n",
    "            for l1 in f1:\n",
    "                if i>0:\n",
    "                    j+=1\n",
    "                i+=1    \n",
    "            f1.close()    \n",
    "            for l2 in f2:\n",
    "                k+=1\n",
    "            f2.close() \n",
    "            if k>0 and j>0:\n",
    "                all_boxes+=1"
   ]
  },
  {
   "cell_type": "code",
   "execution_count": 111,
   "metadata": {},
   "outputs": [
    {
     "data": {
      "text/plain": [
       "713"
      ]
     },
     "execution_count": 111,
     "metadata": {},
     "output_type": "execute_result"
    }
   ],
   "source": [
    "all_boxes"
   ]
  },
  {
   "cell_type": "code",
   "execution_count": 114,
   "metadata": {},
   "outputs": [
    {
     "name": "stdout",
     "output_type": "stream",
     "text": [
      "24.4680851064 % images had boxes and YOLO predicted some\n"
     ]
    }
   ],
   "source": [
    "print str((all_boxes/float(n_test_imgs))*100) + \" % images had boxes and YOLO predicted some\" "
   ]
  },
  {
   "cell_type": "markdown",
   "metadata": {},
   "source": [
    "# There were no boxes and YOLO predicted nothing"
   ]
  },
  {
   "cell_type": "code",
   "execution_count": 115,
   "metadata": {},
   "outputs": [],
   "source": [
    "all_boxes = 0\n",
    "for act_f in act_files:\n",
    "    if act_f in yolo_files:\n",
    "        f1 = open(\"/media/talha/73fb317f-f61e-4b1f-b59e-5121d06d212b/Code(ACF)/data/Tsinghua-Daimler/test/posGt/\"+act_f,\"r\")\n",
    "        f2 = open(\"./test/yolo/\"+act_f,\"r\")\n",
    "        first_f1 = f1.read(1)\n",
    "        first_f2 = f2.read(1)\n",
    "        i = 0\n",
    "        j=0\n",
    "        k=0\n",
    "        if first_f1 and first_f2:\n",
    "            for l1 in f1:\n",
    "                if i>0:\n",
    "                    j+=1\n",
    "                i+=1    \n",
    "            f1.close()    \n",
    "            for l2 in f2:\n",
    "                k+=1\n",
    "            f2.close() \n",
    "            if k==0 and j==0:\n",
    "                all_boxes+=1"
   ]
  },
  {
   "cell_type": "code",
   "execution_count": 116,
   "metadata": {},
   "outputs": [
    {
     "data": {
      "text/plain": [
       "0"
      ]
     },
     "execution_count": 116,
     "metadata": {},
     "output_type": "execute_result"
    }
   ],
   "source": [
    "all_boxes"
   ]
  },
  {
   "cell_type": "code",
   "execution_count": 117,
   "metadata": {},
   "outputs": [
    {
     "name": "stdout",
     "output_type": "stream",
     "text": [
      "No images like this\n"
     ]
    }
   ],
   "source": [
    "print \"No images like this\""
   ]
  },
  {
   "cell_type": "markdown",
   "metadata": {},
   "source": [
    "# YOLO has predicted nothing"
   ]
  },
  {
   "cell_type": "code",
   "execution_count": 118,
   "metadata": {},
   "outputs": [],
   "source": [
    "all_boxes = 0\n",
    "for act_f in act_files:\n",
    "    if act_f in yolo_files:\n",
    "        f1 = open(\"/media/talha/73fb317f-f61e-4b1f-b59e-5121d06d212b/Code(ACF)/data/Tsinghua-Daimler/test/posGt/\"+act_f,\"r\")\n",
    "        f2 = open(\"./test/yolo/\"+act_f,\"r\")\n",
    "        first_f1 = f1.read(1)\n",
    "        first_f2 = f2.read(1)\n",
    "        i = 0\n",
    "        j=0\n",
    "        k=0\n",
    "        if first_f1 and first_f2:\n",
    "            for l1 in f1:\n",
    "                if i>0:\n",
    "                    j+=1\n",
    "                i+=1    \n",
    "            f1.close()    \n",
    "            for l2 in f2:\n",
    "                k+=1\n",
    "            f2.close() \n",
    "            if k==0:\n",
    "                all_boxes+=1"
   ]
  },
  {
   "cell_type": "code",
   "execution_count": 119,
   "metadata": {},
   "outputs": [
    {
     "data": {
      "text/plain": [
       "0"
      ]
     },
     "execution_count": 119,
     "metadata": {},
     "output_type": "execute_result"
    }
   ],
   "source": [
    "all_boxes"
   ]
  },
  {
   "cell_type": "code",
   "execution_count": 120,
   "metadata": {},
   "outputs": [
    {
     "name": "stdout",
     "output_type": "stream",
     "text": [
      "There are no such images\n"
     ]
    }
   ],
   "source": [
    "print \"There are no such images\""
   ]
  },
  {
   "cell_type": "code",
   "execution_count": null,
   "metadata": {},
   "outputs": [],
   "source": []
  }
 ],
 "metadata": {
  "kernelspec": {
   "display_name": "Python 2",
   "language": "python",
   "name": "python2"
  },
  "language_info": {
   "codemirror_mode": {
    "name": "ipython",
    "version": 2
   },
   "file_extension": ".py",
   "mimetype": "text/x-python",
   "name": "python",
   "nbconvert_exporter": "python",
   "pygments_lexer": "ipython2",
   "version": "2.7.12"
  }
 },
 "nbformat": 4,
 "nbformat_minor": 2
}
