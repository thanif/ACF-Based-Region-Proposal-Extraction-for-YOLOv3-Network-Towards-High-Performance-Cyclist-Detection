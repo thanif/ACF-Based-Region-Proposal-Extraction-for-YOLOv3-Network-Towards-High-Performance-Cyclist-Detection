{
 "cells": [
  {
   "cell_type": "code",
   "execution_count": 11,
   "metadata": {},
   "outputs": [],
   "source": [
    "import os\n",
    "from shutil import copyfile"
   ]
  },
  {
   "cell_type": "code",
   "execution_count": 12,
   "metadata": {},
   "outputs": [],
   "source": [
    "files = open(\"/media/talha/73fb317f-f61e-4b1f-b59e-5121d06d212b/Code(ACF)/AlexeyABdarknet/data/test.txt\")"
   ]
  },
  {
   "cell_type": "code",
   "execution_count": 13,
   "metadata": {},
   "outputs": [],
   "source": [
    "for f in files:\n",
    "    copyfile(\"/media/talha/73fb317f-f61e-4b1f-b59e-5121d06d212b/Code(ACF)/AlexeyABdarknet/\"+f.split(\"\\n\")[0],\"./data/test/\"+f.split(\"/\")[2].split(\"\\n\")[0])"
   ]
  },
  {
   "cell_type": "code",
   "execution_count": null,
   "metadata": {},
   "outputs": [],
   "source": []
  }
 ],
 "metadata": {
  "kernelspec": {
   "display_name": "Python 2",
   "language": "python",
   "name": "python2"
  },
  "language_info": {
   "codemirror_mode": {
    "name": "ipython",
    "version": 2
   },
   "file_extension": ".py",
   "mimetype": "text/x-python",
   "name": "python",
   "nbconvert_exporter": "python",
   "pygments_lexer": "ipython2",
   "version": "2.7.12"
  }
 },
 "nbformat": 4,
 "nbformat_minor": 2
}
