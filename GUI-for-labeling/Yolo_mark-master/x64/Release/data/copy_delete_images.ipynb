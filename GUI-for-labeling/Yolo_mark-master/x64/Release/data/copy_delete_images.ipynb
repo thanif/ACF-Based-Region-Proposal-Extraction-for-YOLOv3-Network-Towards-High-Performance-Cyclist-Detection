{
 "cells": [
  {
   "cell_type": "code",
   "execution_count": 1,
   "metadata": {},
   "outputs": [],
   "source": [
    "import os\n",
    "import shutil"
   ]
  },
  {
   "cell_type": "code",
   "execution_count": 2,
   "metadata": {},
   "outputs": [],
   "source": [
    "img_names = os.listdir('/media/talha/73fb317f-f61e-4b1f-b59e-5121d06d212b/Code(ACF)/darknet/data/obj/')"
   ]
  },
  {
   "cell_type": "code",
   "execution_count": 3,
   "metadata": {},
   "outputs": [
    {
     "data": {
      "text/plain": [
       "26637"
      ]
     },
     "execution_count": 3,
     "metadata": {},
     "output_type": "execute_result"
    }
   ],
   "source": [
    "len(img_names)"
   ]
  },
  {
   "cell_type": "code",
   "execution_count": 5,
   "metadata": {},
   "outputs": [
    {
     "data": {
      "text/plain": [
       "'tsinghuaDaimlerDataset_2014-11-20_075523_000006544_1.jpg'"
      ]
     },
     "execution_count": 5,
     "metadata": {},
     "output_type": "execute_result"
    }
   ],
   "source": [
    "img_names[0]"
   ]
  },
  {
   "cell_type": "code",
   "execution_count": 6,
   "metadata": {},
   "outputs": [],
   "source": [
    "src = \"/media/talha/73fb317f-f61e-4b1f-b59e-5121d06d212b/Code(ACF)/darknet/data/obj/\"\n",
    "dst = \"/media/talha/73fb317f-f61e-4b1f-b59e-5121d06d212b/Code(ACF)/GUI-for-labeling/Yolo_mark-master/x64/Release/data/img/\"\n",
    "\n",
    "for img in img_names:\n",
    "\n",
    "    shutil.copyfile(src+img, dst+img)"
   ]
  },
  {
   "cell_type": "markdown",
   "metadata": {},
   "source": [
    "# Remove txt files"
   ]
  },
  {
   "cell_type": "code",
   "execution_count": 9,
   "metadata": {},
   "outputs": [
    {
     "data": {
      "text/plain": [
       "26708"
      ]
     },
     "execution_count": 9,
     "metadata": {},
     "output_type": "execute_result"
    }
   ],
   "source": [
    "len(os.listdir(\"/media/talha/73fb317f-f61e-4b1f-b59e-5121d06d212b/Code(ACF)/GUI-for-labeling/Yolo_mark-master/x64/Release/data/img/\"))"
   ]
  },
  {
   "cell_type": "code",
   "execution_count": 18,
   "metadata": {},
   "outputs": [],
   "source": [
    "img_files = os.listdir(\"/media/talha/73fb317f-f61e-4b1f-b59e-5121d06d212b/Code(ACF)/GUI-for-labeling/Yolo_mark-master/x64/Release/data/img/\")\n",
    "\n",
    "for f in img_files:\n",
    "    if '.txt' in f:\n",
    "        shutil.os.remove(\"/media/talha/73fb317f-f61e-4b1f-b59e-5121d06d212b/Code(ACF)/GUI-for-labeling/Yolo_mark-master/x64/Release/data/img/\"+f)"
   ]
  },
  {
   "cell_type": "code",
   "execution_count": 19,
   "metadata": {},
   "outputs": [
    {
     "data": {
      "text/plain": [
       "26637"
      ]
     },
     "execution_count": 19,
     "metadata": {},
     "output_type": "execute_result"
    }
   ],
   "source": [
    "len(os.listdir(\"/media/talha/73fb317f-f61e-4b1f-b59e-5121d06d212b/Code(ACF)/GUI-for-labeling/Yolo_mark-master/x64/Release/data/img/\"))"
   ]
  },
  {
   "cell_type": "code",
   "execution_count": null,
   "metadata": {},
   "outputs": [],
   "source": []
  }
 ],
 "metadata": {
  "kernelspec": {
   "display_name": "Python 2",
   "language": "python",
   "name": "python2"
  },
  "language_info": {
   "codemirror_mode": {
    "name": "ipython",
    "version": 2
   },
   "file_extension": ".py",
   "mimetype": "text/x-python",
   "name": "python",
   "nbconvert_exporter": "python",
   "pygments_lexer": "ipython2",
   "version": "2.7.12"
  }
 },
 "nbformat": 4,
 "nbformat_minor": 2
}
