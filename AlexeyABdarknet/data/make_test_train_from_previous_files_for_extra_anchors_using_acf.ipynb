{
 "cells": [
  {
   "cell_type": "code",
   "execution_count": 16,
   "metadata": {},
   "outputs": [],
   "source": [
    "train = []\n",
    "ntrain= open(\"./train.txt\",\"a+\")\n",
    "ptrain=open(\"./pre_train.txt\", \"r+\")\n",
    "for f in ptrain:\n",
    "    if f.split(\".\")[0][:-2]+\".png\" not in train:\n",
    "        train.append(f.split(\".\")[0][:-2]+\".png\")\n",
    "        ntrain.write(f.split(\".\")[0][:-2]+\".png\"+\"\\n\")\n",
    "ntrain.close()\n",
    "ptrain.close()"
   ]
  },
  {
   "cell_type": "code",
   "execution_count": 17,
   "metadata": {},
   "outputs": [],
   "source": [
    "test = []\n",
    "ntest= open(\"./test.txt\",\"a+\")\n",
    "ptest=open(\"./pre_test.txt\", \"r+\")\n",
    "for f in ptest:\n",
    "    if f.split(\".\")[0][:-2]+\".png\" not in test:\n",
    "        test.append(f.split(\".\")[0][:-2]+\".png\")\n",
    "        ntest.write(f.split(\".\")[0][:-2]+\".png\"+\"\\n\")\n",
    "ntest.close()\n",
    "ptest.close()"
   ]
  },
  {
   "cell_type": "code",
   "execution_count": null,
   "metadata": {},
   "outputs": [],
   "source": []
  }
 ],
 "metadata": {
  "kernelspec": {
   "display_name": "Python 2",
   "language": "python",
   "name": "python2"
  },
  "language_info": {
   "codemirror_mode": {
    "name": "ipython",
    "version": 2
   },
   "file_extension": ".py",
   "mimetype": "text/x-python",
   "name": "python",
   "nbconvert_exporter": "python",
   "pygments_lexer": "ipython2",
   "version": "2.7.12"
  }
 },
 "nbformat": 4,
 "nbformat_minor": 2
}
