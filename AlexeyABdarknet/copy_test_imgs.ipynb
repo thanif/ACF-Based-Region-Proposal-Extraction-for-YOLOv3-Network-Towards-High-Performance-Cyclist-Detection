{
 "cells": [
  {
   "cell_type": "code",
   "execution_count": 1,
   "metadata": {},
   "outputs": [],
   "source": [
    "import os\n",
    "from shutil import copyfile\n",
    "import numpy as np"
   ]
  },
  {
   "cell_type": "code",
   "execution_count": 35,
   "metadata": {},
   "outputs": [],
   "source": [
    "files = open(\"./data/test.txt\")"
   ]
  },
  {
   "cell_type": "code",
   "execution_count": 25,
   "metadata": {},
   "outputs": [
    {
     "name": "stdout",
     "output_type": "stream",
     "text": [
      "tsinghuaDaimlerDataset_2014-11-24_084824_000039680\n"
     ]
    }
   ],
   "source": [
    "files = open(\"./data/test.txt\")\n",
    "for f in files:\n",
    "    print f.split(\"/\")[2].split(\".\")[0][:-2]\n",
    "    break"
   ]
  },
  {
   "cell_type": "code",
   "execution_count": 36,
   "metadata": {},
   "outputs": [],
   "source": [
    "for f in files:\n",
    "    img_name = f.split(\"/\")[2].split(\".\")[0][:-2]+\".png\"\n",
    "    train = os.listdir(\"../data/Tsinghua-Daimler/train/pos\")\n",
    "    test = os.listdir(\"../data/Tsinghua-Daimler/test/pos\")\n",
    "    valid = os.listdir(\"../data/Tsinghua-Daimler/valid/pos\")\n",
    "    if img_name in train:\n",
    "        copyfile(\"../data/Tsinghua-Daimler/train/pos/\"+img_name,\"./test/imgs/\"+img_name)\n",
    "    elif img_name in test:\n",
    "        copyfile(\"../data/Tsinghua-Daimler/test/pos/\"+img_name,\"./test/imgs/\"+img_name)\n",
    "    else: \n",
    "        copyfile(\"../data/Tsinghua-Daimler/valid/pos/\"+img_name,\"./test/imgs/\"+img_name)"
   ]
  },
  {
   "cell_type": "code",
   "execution_count": 29,
   "metadata": {},
   "outputs": [
    {
     "data": {
      "text/plain": [
       "'tsinghuaDaimlerDataset_2014-12-04_082614_000028589.png'"
      ]
     },
     "execution_count": 29,
     "metadata": {},
     "output_type": "execute_result"
    }
   ],
   "source": [
    "test = os.listdir(\"../data/Tsinghua-Daimler/test/pos\")\n",
    "test[0]"
   ]
  },
  {
   "cell_type": "code",
   "execution_count": 30,
   "metadata": {},
   "outputs": [
    {
     "data": {
      "text/plain": [
       "2914"
      ]
     },
     "execution_count": 30,
     "metadata": {},
     "output_type": "execute_result"
    }
   ],
   "source": [
    "len(test)"
   ]
  },
  {
   "cell_type": "code",
   "execution_count": 34,
   "metadata": {},
   "outputs": [
    {
     "data": {
      "text/plain": [
       "4048"
      ]
     },
     "execution_count": 34,
     "metadata": {},
     "output_type": "execute_result"
    }
   ],
   "source": [
    "i = 0\n",
    "for f in files:\n",
    "    i = i+1\n",
    "i    "
   ]
  },
  {
   "cell_type": "code",
   "execution_count": 37,
   "metadata": {},
   "outputs": [],
   "source": [
    "names = []\n",
    "files = open(\"./data/test.txt\")\n",
    "for f in files:\n",
    "    names.append(f.split(\"/\")[2].split(\".\")[0][:-2])"
   ]
  },
  {
   "cell_type": "code",
   "execution_count": 41,
   "metadata": {},
   "outputs": [
    {
     "data": {
      "text/plain": [
       "3852"
      ]
     },
     "execution_count": 41,
     "metadata": {},
     "output_type": "execute_result"
    }
   ],
   "source": [
    "len(np.unique(names))"
   ]
  },
  {
   "cell_type": "code",
   "execution_count": 2,
   "metadata": {},
   "outputs": [],
   "source": [
    "files = os.listdir(\"./data/obj/\")\n",
    "for f in files:\n",
    "    if \"txt\" in f:\n",
    "        os.remove(\"./data/obj/\"+f)"
   ]
  },
  {
   "cell_type": "code",
   "execution_count": null,
   "metadata": {},
   "outputs": [],
   "source": []
  }
 ],
 "metadata": {
  "kernelspec": {
   "display_name": "Python 2",
   "language": "python",
   "name": "python2"
  },
  "language_info": {
   "codemirror_mode": {
    "name": "ipython",
    "version": 2
   },
   "file_extension": ".py",
   "mimetype": "text/x-python",
   "name": "python",
   "nbconvert_exporter": "python",
   "pygments_lexer": "ipython2",
   "version": "2.7.12"
  }
 },
 "nbformat": 4,
 "nbformat_minor": 2
}
